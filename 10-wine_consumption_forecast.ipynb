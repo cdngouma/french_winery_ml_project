{
 "cells": [
  {
   "cell_type": "code",
   "execution_count": 1,
   "id": "217004db-8ca3-4821-966f-43812ee0f7d1",
   "metadata": {},
   "outputs": [],
   "source": [
    "import pandas as pd\n",
    "import numpy as np\n",
    "import seaborn as sns\n",
    "import matplotlib.pyplot as plt\n",
    "\n",
    "# Import custom libraries\n",
    "import utils"
   ]
  },
  {
   "cell_type": "markdown",
   "id": "569c101c-864e-4796-b740-5e69dc13e44b",
   "metadata": {},
   "source": [
    "In this notebook we build a model to forecast `US Wine Consumption (Mgal)`."
   ]
  },
  {
   "cell_type": "markdown",
   "id": "ca304ed5-6959-4ab0-baae-37f366200f02",
   "metadata": {},
   "source": [
    "### Metrics\n",
    "| Model | MAE | RSE | R-squared |\n",
    "|:-------|-----|-----|-----------|\n",
    "|Linear Regression (baseline)|24.582|805.432|0.680|\n",
    "|Holt-Winters|23.656|726.824|0.718|\n",
    "|ARIMA|**20.914**|**590.345**|**0.770**|\n",
    "|DLM|24.234|774.672|0.695|"
   ]
  },
  {
   "cell_type": "markdown",
   "id": "6008a595-88f5-4cd2-b9ac-d4bf44d1cb53",
   "metadata": {},
   "source": [
    "## Load Data"
   ]
  },
  {
   "cell_type": "code",
   "execution_count": 53,
   "id": "75d3c2d5-c036-460f-ae30-0818489e754b",
   "metadata": {},
   "outputs": [
    {
     "data": {
      "text/plain": [
       "(24, 22)"
      ]
     },
     "execution_count": 53,
     "metadata": {},
     "output_type": "execute_result"
    }
   ],
   "source": [
    "forecast_data = pd.read_csv(\"forecast_data.csv\")\n",
    "forecast_data.shape"
   ]
  },
  {
   "cell_type": "code",
   "execution_count": 3,
   "id": "c4afcf85-a5f1-4298-804e-94e1f8fe7a7b",
   "metadata": {},
   "outputs": [],
   "source": [
    "columns = [\"Year\", \"US Wine Production (Mgal)\", \"Median Income\", \"Num Seniors\", \"Num w/ small children\", \"US Wine Sales Volume (Mgal)\", \"US Wine Consumption (Mgal)\"]"
   ]
  },
  {
   "cell_type": "code",
   "execution_count": 4,
   "id": "3dcf5f62-dfb7-4047-9eeb-680999377a2d",
   "metadata": {},
   "outputs": [],
   "source": [
    "forecast_data = forecast_data[columns].copy()"
   ]
  },
  {
   "cell_type": "code",
   "execution_count": 54,
   "id": "05c2acea-c968-40ba-b730-76ec30bb9516",
   "metadata": {},
   "outputs": [
    {
     "name": "stdout",
     "output_type": "stream",
     "text": [
      "<class 'pandas.core.frame.DataFrame'>\n",
      "RangeIndex: 24 entries, 0 to 23\n",
      "Data columns (total 22 columns):\n",
      " #   Column                               Non-Null Count  Dtype  \n",
      "---  ------                               --------------  -----  \n",
      " 0   Year                                 24 non-null     int64  \n",
      " 1   Premium Wineries Gross Margins (%)   21 non-null     float64\n",
      " 2   US Wine Market Share (%)             13 non-null     float64\n",
      " 3   US Wine Consumption (Mgal)           18 non-null     float64\n",
      " 4   US Wine Production (Mgal)            17 non-null     float64\n",
      " 5   California Wine Production (Mgal)    17 non-null     float64\n",
      " 6   US Wine Sales Volume (Mgal)          23 non-null     float64\n",
      " 7   Californian Wine Market Value ($Bn)  17 non-null     float64\n",
      " 8   Num w/ small children                24 non-null     float64\n",
      " 9   Median Income                        24 non-null     int64  \n",
      " 10  Mean Income                          24 non-null     int64  \n",
      " 11  Num Adults                           24 non-null     float64\n",
      " 12  Num Kids                             24 non-null     float64\n",
      " 13  Num Seniors                          24 non-null     float64\n",
      " 14  Num Teens                            24 non-null     float64\n",
      " 15  Num Young Adults                     24 non-null     float64\n",
      " 16  Total Population                     24 non-null     float64\n",
      " 17  High School                          24 non-null     float64\n",
      " 18  Some College                         24 non-null     float64\n",
      " 19  Bachelor's degree                    24 non-null     float64\n",
      " 20  Advanced degree                      24 non-null     float64\n",
      " 21  Basic education                      24 non-null     float64\n",
      "dtypes: float64(19), int64(3)\n",
      "memory usage: 4.2 KB\n"
     ]
    }
   ],
   "source": [
    "forecast_data.info()"
   ]
  },
  {
   "cell_type": "markdown",
   "id": "069b9651-efe2-4ba8-9f7c-cdc839317ef2",
   "metadata": {},
   "source": [
    "Augment `US Wine Sales Volume (Mgal)` data"
   ]
  },
  {
   "cell_type": "code",
   "execution_count": 55,
   "id": "010aca39-6286-4f14-b0ec-c3474aae350e",
   "metadata": {},
   "outputs": [
    {
     "data": {
      "text/plain": [
       "(89, 4)"
      ]
     },
     "execution_count": 55,
     "metadata": {},
     "output_type": "execute_result"
    }
   ],
   "source": [
    "consumption_data = pd.read_csv(\"dataset/wine_consumption.tsv\", delimiter=\"\\t\")\n",
    "consumption_data = consumption_data.rename(columns={\"Total Wine (Mgal)\": \"US Wine Consumption (Mgal)\"})\n",
    "consumption_data.shape"
   ]
  },
  {
   "cell_type": "code",
   "execution_count": 56,
   "id": "dfd2bdaa-35e3-48bf-b033-dcff90a26281",
   "metadata": {},
   "outputs": [
    {
     "data": {
      "text/plain": [
       "1934"
      ]
     },
     "execution_count": 56,
     "metadata": {},
     "output_type": "execute_result"
    }
   ],
   "source": [
    "consumption_data[\"Year\"].min()"
   ]
  },
  {
   "cell_type": "code",
   "execution_count": 57,
   "id": "d4f66902-2cb5-447e-86ba-c6060c608ba6",
   "metadata": {},
   "outputs": [
    {
     "name": "stdout",
     "output_type": "stream",
     "text": [
      "<class 'pandas.core.frame.DataFrame'>\n",
      "RangeIndex: 89 entries, 0 to 88\n",
      "Data columns (total 4 columns):\n",
      " #   Column                          Non-Null Count  Dtype  \n",
      "---  ------                          --------------  -----  \n",
      " 0   Year                            89 non-null     int64  \n",
      " 1   Total Wine per Resident (gals)  89 non-null     float64\n",
      " 2   US Wine Consumption (Mgal)      89 non-null     int64  \n",
      " 3   Total Table Wine (Mgal)         89 non-null     int64  \n",
      "dtypes: float64(1), int64(3)\n",
      "memory usage: 2.9 KB\n"
     ]
    }
   ],
   "source": [
    "consumption_data.info()"
   ]
  },
  {
   "cell_type": "code",
   "execution_count": 58,
   "id": "757bf9d1-2b3d-459c-9d7b-f4723902d914",
   "metadata": {},
   "outputs": [],
   "source": [
    "consumption_data = consumption_data[[\"Year\", \"US Wine Consumption (Mgal)\"]]"
   ]
  },
  {
   "cell_type": "code",
   "execution_count": 59,
   "id": "d4b1c1fc-d86a-4016-b191-d0b66cb79176",
   "metadata": {},
   "outputs": [
    {
     "data": {
      "text/plain": [
       "(89, 22)"
      ]
     },
     "execution_count": 59,
     "metadata": {},
     "output_type": "execute_result"
    }
   ],
   "source": [
    "data = pd.merge(forecast_data, consumption_data, on=[\"Year\", \"US Wine Consumption (Mgal)\"], how=\"right\").sort_values(by=\"Year\")\n",
    "data.shape"
   ]
  },
  {
   "cell_type": "code",
   "execution_count": 60,
   "id": "3870576f-5ee8-40bb-a13b-9b0e6a93df56",
   "metadata": {},
   "outputs": [
    {
     "data": {
      "text/plain": [
       "(89, 21)"
      ]
     },
     "execution_count": 60,
     "metadata": {},
     "output_type": "execute_result"
    }
   ],
   "source": [
    "data[\"Year\"] = pd.to_datetime(data[\"Year\"], format='%Y')\n",
    "data = data.set_index(\"Year\")\n",
    "data.index.freq = 'AS-JAN' \n",
    "data = data.sort_index()\n",
    "data.shape"
   ]
  },
  {
   "cell_type": "markdown",
   "id": "a2c9c121-d1e8-4473-80da-961841eda787",
   "metadata": {},
   "source": [
    "## Visualization, Stationarity and Correlations"
   ]
  },
  {
   "cell_type": "code",
   "execution_count": 63,
   "id": "0a69e333-7c35-42d8-89a4-70bfe12a9f40",
   "metadata": {},
   "outputs": [
    {
     "data": {
      "image/png": "[encoded data removed]",
      "text/plain": [
       "<Figure size 504x360 with 1 Axes>"
      ]
     },
     "metadata": {
      "needs_background": "light"
     },
     "output_type": "display_data"
    }
   ],
   "source": [
    "plt.figure(figsize=(7,5))\n",
    "sns.lineplot(data=data, x=data.index, y=\"US Wine Sales Volume (Mgal)\")\n",
    "plt.savefig(\"us_wine_sales.png\")"
   ]
  },
  {
   "cell_type": "markdown",
   "id": "57f9c0b2-5f02-4ba1-8fdc-2785d08895e0",
   "metadata": {},
   "source": [
    "We observe that the data could be split into 3 periods of rougly 30-40 years."
   ]
  },
  {
   "cell_type": "code",
   "execution_count": 13,
   "id": "35989b8a-4d83-40df-9f92-5d582added4d",
   "metadata": {},
   "outputs": [
    {
     "data": {
      "text/plain": [
       "(0.3378590165673619, 0.9790162989994445)"
      ]
     },
     "execution_count": 13,
     "metadata": {},
     "output_type": "execute_result"
    }
   ],
   "source": [
    "utils.adf_test(data[\"US Wine Consumption (Mgal)\"])"
   ]
  },
  {
   "cell_type": "code",
   "execution_count": 14,
   "id": "d21291c2-4fbd-4442-9aaa-24edc05e9fbb",
   "metadata": {},
   "outputs": [
    {
     "name": "stderr",
     "output_type": "stream",
     "text": [
      "C:\\Users\\ngoum\\Documents\\coding\\fleming_wilde\\ml_test_project\\french_winery\\utils.py:59: InterpolationWarning: The test statistic is outside of the range of p-values available in the\n",
      "look-up table. The actual p-value is smaller than the p-value returned.\n",
      "\n",
      "  result = kpss(timeseries)\n"
     ]
    },
    {
     "data": {
      "text/plain": [
       "(1.4936894720747256, 0.01)"
      ]
     },
     "execution_count": 14,
     "metadata": {},
     "output_type": "execute_result"
    }
   ],
   "source": [
    "utils.kpss_test(data[\"US Wine Consumption (Mgal)\"])"
   ]
  },
  {
   "cell_type": "markdown",
   "id": "306d3250-26cb-46bd-b59b-b9fa597e95c7",
   "metadata": {},
   "source": [
    "Overall, when going back to 1934 to 2022, the data is not stationary."
   ]
  },
  {
   "cell_type": "code",
   "execution_count": 15,
   "id": "21f482af-5ce3-4fe2-9561-9cb76718e188",
   "metadata": {},
   "outputs": [
    {
     "data": {
      "image/png": "[encoded data removed]",
      "text/plain": [
       "<Figure size 360x288 with 2 Axes>"
      ]
     },
     "metadata": {
      "needs_background": "light"
     },
     "output_type": "display_data"
    }
   ],
   "source": [
    "utils.visualize_correlation(utils.calculate_correlation(data), figsize=(5,4))"
   ]
  },
  {
   "cell_type": "markdown",
   "id": "a6c43642-3557-4669-9162-478ad9805e9b",
   "metadata": {},
   "source": [
    "## Baseline"
   ]
  },
  {
   "cell_type": "code",
   "execution_count": 16,
   "id": "b9197011-65fe-4820-a257-734b8d05a975",
   "metadata": {},
   "outputs": [],
   "source": [
    "from sklearn.linear_model import Ridge, LinearRegression"
   ]
  },
  {
   "cell_type": "code",
   "execution_count": 17,
   "id": "117f2cd8-6860-44d0-98ca-35c9de974005",
   "metadata": {},
   "outputs": [],
   "source": [
    "baseline_data = data.iloc[-30:-1][\"US Wine Consumption (Mgal)\"].copy()"
   ]
  },
  {
   "cell_type": "code",
   "execution_count": 18,
   "id": "69a4e0e7-f941-476b-8e9e-fdfe24dc54c0",
   "metadata": {},
   "outputs": [],
   "source": [
    "baseline_data = baseline_data.reset_index()\n",
    "baseline_data[\"Year\"] = baseline_data[\"Year\"].dt.year"
   ]
  },
  {
   "cell_type": "code",
   "execution_count": 19,
   "id": "829d81bc-8468-4019-959f-5279ff3bcf33",
   "metadata": {},
   "outputs": [
    {
     "data": {
      "text/plain": [
       "((23, 2), (6, 2))"
      ]
     },
     "execution_count": 19,
     "metadata": {},
     "output_type": "execute_result"
    }
   ],
   "source": [
    "baseline_train, baseline_test = utils.split_dataset(baseline_data, test_size=0.2)\n",
    "baseline_train.shape, baseline_test.shape"
   ]
  },
  {
   "cell_type": "code",
   "execution_count": 20,
   "id": "642d10ed-6d53-4eae-842b-75711dbd2992",
   "metadata": {},
   "outputs": [
    {
     "name": "stdout",
     "output_type": "stream",
     "text": [
      "MAE: 28.20048, MSE: 952.08574, R-squared: 0.61473\n"
     ]
    }
   ],
   "source": [
    "ridge_reg = Ridge()\n",
    "ridge_reg.fit(baseline_train.values[:,:-1], baseline_train.values[:,-1])\n",
    "\n",
    "# Calculate metrics\n",
    "baseline_preds = ridge_reg.predict(baseline_test.values[:,:-1])\n",
    "baseline_mae, baseline_mse, baseline_r2 = utils.calculate_metrics(baseline_preds, baseline_test.values[:,-1])\n",
    "print(f\"MAE: {baseline_mae:.5f}, MSE: {baseline_mse:.5f}, R-squared: {baseline_r2:.5f}\")"
   ]
  },
  {
   "cell_type": "code",
   "execution_count": 21,
   "id": "3cab4664-baed-4a57-a459-93f2a0760e5d",
   "metadata": {},
   "outputs": [
    {
     "data": {
      "text/plain": [
       "<AxesSubplot:xlabel='Year', ylabel='US Wine Consumption (Mgal)'>"
      ]
     },
     "execution_count": 21,
     "metadata": {},
     "output_type": "execute_result"
    },
    {
     "data": {
      "image/png": "[encoded data removed]",
      "text/plain": [
       "<Figure size 432x288 with 1 Axes>"
      ]
     },
     "metadata": {
      "needs_background": "light"
     },
     "output_type": "display_data"
    }
   ],
   "source": [
    "sns.lineplot(data=baseline_data, x=\"Year\", y=\"US Wine Consumption (Mgal)\", label=\"Actual\")\n",
    "sns.lineplot(x=baseline_test[\"Year\"], y=baseline_preds, label=\"Predicted\")"
   ]
  },
  {
   "cell_type": "markdown",
   "id": "25e4f862-4a7a-4394-a4ba-8a4f6cc776b3",
   "metadata": {},
   "source": [
    "Cross-Validation"
   ]
  },
  {
   "cell_type": "code",
   "execution_count": 22,
   "id": "7cbf8cdc-6390-47b3-9578-337aa4d51dd3",
   "metadata": {},
   "outputs": [
    {
     "name": "stdout",
     "output_type": "stream",
     "text": [
      "Mean MAE: 24.58205231163551\n",
      "Mean MSE: 805.4328867989384\n",
      "Mean R-squared: 0.6803399111794802\n",
      "Train sizes: min=8, max=22\n",
      "Test sizes: min=7, max=7\n",
      "\n",
      "Metrics in non-stationary context\n"
     ]
    }
   ],
   "source": [
    "utils.stats_models_cv(model_name=\"lr\", data=baseline_data, n_folds=3)"
   ]
  },
  {
   "cell_type": "markdown",
   "id": "33c00319-d5eb-45e4-b64a-c005769bbc6a",
   "metadata": {
    "tags": []
   },
   "source": [
    "## Statistical Models"
   ]
  },
  {
   "cell_type": "code",
   "execution_count": 23,
   "id": "0fef1765-7ede-4e0c-9753-6486ddc93b3d",
   "metadata": {},
   "outputs": [],
   "source": [
    "from statsmodels.tsa.holtwinters import ExponentialSmoothing\n",
    "from statsmodels.tsa.arima.model import ARIMA\n",
    "from pydlm import dlm, dynamic, trend"
   ]
  },
  {
   "cell_type": "code",
   "execution_count": 24,
   "id": "018481db-c6a1-463d-82a3-f8561e755423",
   "metadata": {},
   "outputs": [],
   "source": [
    "target = [\"US Wine Consumption (Mgal)\"]"
   ]
  },
  {
   "cell_type": "markdown",
   "id": "7682e817-88fc-4517-835d-3fbbbedc10f9",
   "metadata": {},
   "source": [
    "### Holt-Winters Exponential Smoothing"
   ]
  },
  {
   "cell_type": "code",
   "execution_count": 25,
   "id": "49be3bbb-f2ee-4a36-a5a6-168ffa35eba8",
   "metadata": {},
   "outputs": [],
   "source": [
    "hw_data = data.iloc[:-1][target].copy()"
   ]
  },
  {
   "cell_type": "code",
   "execution_count": 26,
   "id": "0ca676ae-6d25-4cf0-a5ee-b20f50de4f10",
   "metadata": {},
   "outputs": [
    {
     "data": {
      "text/plain": [
       "((70, 1), (18, 1))"
      ]
     },
     "execution_count": 26,
     "metadata": {},
     "output_type": "execute_result"
    }
   ],
   "source": [
    "hw_train, hw_test = utils.split_dataset(hw_data, test_size=0.2)\n",
    "hw_train.shape, hw_test.shape"
   ]
  },
  {
   "cell_type": "code",
   "execution_count": 27,
   "id": "3a2c32aa-d6c5-4444-aff2-a7fc5d0098d8",
   "metadata": {},
   "outputs": [
    {
     "name": "stdout",
     "output_type": "stream",
     "text": [
      "MAE: 22.70619, MSE: 955.20949, R-squared: 0.93426\n"
     ]
    }
   ],
   "source": [
    "# Fit model\n",
    "hw_model = ExponentialSmoothing(hw_train, trend='add', seasonal='add', seasonal_periods=10)\n",
    "hw_model = hw_model.fit()\n",
    "\n",
    "# Calculate metrics\n",
    "forecast_hw = hw_model.forecast(steps=len(hw_test))\n",
    "hw_mae, hw_mse, hw_r2 = utils.calculate_metrics(forecast_hw, hw_test)\n",
    "print(f\"MAE: {hw_mae:.5f}, MSE: {hw_mse:.5f}, R-squared: {hw_r2:.5f}\")"
   ]
  },
  {
   "cell_type": "code",
   "execution_count": 28,
   "id": "8132f129-4cdc-439c-99fe-263496bbd58d",
   "metadata": {},
   "outputs": [
    {
     "data": {
      "text/plain": [
       "<AxesSubplot:xlabel='Year', ylabel='US Wine Consumption (Mgal)'>"
      ]
     },
     "execution_count": 28,
     "metadata": {},
     "output_type": "execute_result"
    },
    {
     "data": {
      "image/png": "[encoded data removed]",
      "text/plain": [
       "<Figure size 432x288 with 1 Axes>"
      ]
     },
     "metadata": {
      "needs_background": "light"
     },
     "output_type": "display_data"
    }
   ],
   "source": [
    "sns.lineplot(data=hw_data, x=hw_data.index, y=target[0], label=\"Actual\")\n",
    "sns.lineplot(x=forecast_hw.index, y=forecast_hw.values, label=\"Predicted\")"
   ]
  },
  {
   "cell_type": "markdown",
   "id": "9ca0a9d7-ff9d-4955-8e93-e07f1836545b",
   "metadata": {},
   "source": [
    "Cross-Validation"
   ]
  },
  {
   "cell_type": "code",
   "execution_count": 29,
   "id": "18583f46-3089-42b7-897d-2b4aa0126a32",
   "metadata": {},
   "outputs": [
    {
     "name": "stdout",
     "output_type": "stream",
     "text": [
      "Mean MAE: 26.42330169294031\n",
      "Mean MSE: 916.0908826459521\n",
      "Mean R-squared: 0.6356457275237715\n",
      "Train sizes: min=8, max=22\n",
      "Test sizes: min=7, max=7\n",
      "\n",
      "Metrics in non-stationary context\n"
     ]
    }
   ],
   "source": [
    "hw_params = {\"seasonal_periods\": \"half\"}\n",
    "utils.stats_models_cv(model_name=\"holt-winters\", data=hw_data.iloc[-29:], params=hw_params, n_folds=3)"
   ]
  },
  {
   "cell_type": "markdown",
   "id": "9d224276-dd0d-47c3-b546-bb51571802e8",
   "metadata": {},
   "source": [
    "### ARIMA"
   ]
  },
  {
   "cell_type": "code",
   "execution_count": 30,
   "id": "4c91c0ce-ce7f-4b28-9280-da33d64cc5bb",
   "metadata": {},
   "outputs": [],
   "source": [
    "arima_data = data.iloc[:-1][target].copy()"
   ]
  },
  {
   "cell_type": "code",
   "execution_count": 31,
   "id": "46bbb150-49ea-48fc-a4ba-2309d0b6e8c4",
   "metadata": {},
   "outputs": [
    {
     "data": {
      "text/plain": [
       "((70, 1), (18, 1))"
      ]
     },
     "execution_count": 31,
     "metadata": {},
     "output_type": "execute_result"
    }
   ],
   "source": [
    "arima_train, arima_test = utils.split_dataset(arima_data, test_size=0.2)\n",
    "arima_train.shape, hw_test.shape"
   ]
  },
  {
   "cell_type": "code",
   "execution_count": 32,
   "id": "d1d88d5c-c7e8-4b3b-9222-047326ee0fb3",
   "metadata": {},
   "outputs": [
    {
     "name": "stdout",
     "output_type": "stream",
     "text": [
      "MAE: 42.64921, MSE: 2593.75452, R-squared: 0.82150\n"
     ]
    }
   ],
   "source": [
    "# Train model\n",
    "p, d, q = 1, 2, 1\n",
    "arima_model = ARIMA(arima_train, order=(p, d, q))\n",
    "arima_model = arima_model.fit()\n",
    "\n",
    "# Calculate metrics\n",
    "forecast_arima = arima_model.forecast(steps=len(arima_test))\n",
    "arima_mae, arima_mse, arima_r2 = utils.calculate_metrics(forecast_arima, arima_test)\n",
    "print(f\"MAE: {arima_mae:.5f}, MSE: {arima_mse:.5f}, R-squared: {arima_r2:.5f}\")"
   ]
  },
  {
   "cell_type": "code",
   "execution_count": 33,
   "id": "ef2126ed-7ed7-4b5a-a8b1-583aa3178398",
   "metadata": {},
   "outputs": [
    {
     "data": {
      "text/plain": [
       "<AxesSubplot:xlabel='Year', ylabel='US Wine Consumption (Mgal)'>"
      ]
     },
     "execution_count": 33,
     "metadata": {},
     "output_type": "execute_result"
    },
    {
     "data": {
      "image/png": "[encoded data removed]",
      "text/plain": [
       "<Figure size 432x288 with 1 Axes>"
      ]
     },
     "metadata": {
      "needs_background": "light"
     },
     "output_type": "display_data"
    }
   ],
   "source": [
    "sns.lineplot(data=arima_data, x=arima_data.index, y=target[0], label=\"Actual\")\n",
    "sns.lineplot(x=forecast_arima.index, y=forecast_arima.values, label=\"Predicted\")"
   ]
  },
  {
   "cell_type": "markdown",
   "id": "b848ffdd-ea68-42c6-872b-009fe0b90e73",
   "metadata": {},
   "source": [
    "Cross-Validation"
   ]
  },
  {
   "cell_type": "code",
   "execution_count": 34,
   "id": "12c9a817-15c4-4383-9be6-ba8e9f9f5a0c",
   "metadata": {},
   "outputs": [
    {
     "name": "stdout",
     "output_type": "stream",
     "text": [
      "Mean MAE: 20.914036068212624\n",
      "Mean MSE: 590.3450254992346\n",
      "Mean R-squared: 0.7702587821706811\n",
      "Train sizes: min=8, max=22\n",
      "Test sizes: min=7, max=7\n",
      "\n",
      "Metrics in non-stationary context\n"
     ]
    },
    {
     "name": "stderr",
     "output_type": "stream",
     "text": [
      "C:\\Users\\ngoum\\anaconda3\\envs\\dl-env\\lib\\site-packages\\statsmodels\\tsa\\statespace\\sarimax.py:966: UserWarning: Non-stationary starting autoregressive parameters found. Using zeros as starting parameters.\n",
      "  warn('Non-stationary starting autoregressive parameters'\n",
      "C:\\Users\\ngoum\\anaconda3\\envs\\dl-env\\lib\\site-packages\\statsmodels\\tsa\\statespace\\sarimax.py:978: UserWarning: Non-invertible starting MA parameters found. Using zeros as starting parameters.\n",
      "  warn('Non-invertible starting MA parameters found.'\n"
     ]
    }
   ],
   "source": [
    "arima_params = {\"p\": 1, \"d\": 2, \"q\": 1}\n",
    "utils.stats_models_cv(model_name=\"arima\", data=arima_data.iloc[-29:], params=arima_params, n_folds=3)"
   ]
  },
  {
   "cell_type": "markdown",
   "id": "46b1cd0e-6c9b-4efa-b29c-7082c986ef1b",
   "metadata": {},
   "source": [
    "### Dynamic Linear Models (DLM)"
   ]
  },
  {
   "cell_type": "markdown",
   "id": "4afe40b6-9e83-41d2-9002-bf4253dbedb5",
   "metadata": {},
   "source": [
    "#### Without additional features\n",
    "We assume a linearity of the data and we only use the target variable."
   ]
  },
  {
   "cell_type": "code",
   "execution_count": 35,
   "id": "6f322133-5d0d-45ad-baf5-6124aeee568c",
   "metadata": {},
   "outputs": [],
   "source": [
    "dlm_data = data.iloc[:-1][target].copy()#iloc[-30:-1][target].copy()"
   ]
  },
  {
   "cell_type": "code",
   "execution_count": 36,
   "id": "1c10f4d5-c03a-431c-be32-e8f5ae709173",
   "metadata": {},
   "outputs": [
    {
     "data": {
      "text/plain": [
       "((70, 1), (18, 1))"
      ]
     },
     "execution_count": 36,
     "metadata": {},
     "output_type": "execute_result"
    }
   ],
   "source": [
    "dlm_train, dlm_test = utils.split_dataset(dlm_data, test_size=0.2)\n",
    "dlm_train.shape, dlm_test.shape"
   ]
  },
  {
   "cell_type": "code",
   "execution_count": 37,
   "id": "9177dd02-a505-4bc3-995c-847d28aff170",
   "metadata": {},
   "outputs": [
    {
     "name": "stdout",
     "output_type": "stream",
     "text": [
      "Initializing models...\n",
      "Initialization finished.\n",
      "Starting forward filtering...\n",
      "Forward filtering completed.\n",
      "Starting backward smoothing...\n",
      "Backward smoothing completed.\n"
     ]
    }
   ],
   "source": [
    "# Fit model on train data\n",
    "dlm_model = dlm(dlm_train.values)\n",
    "# Given the data is linear, we add a linear trend component\n",
    "dlm_model = dlm_model + trend(degree=1, discount=0.4)\n",
    "dlm_model.fit()"
   ]
  },
  {
   "cell_type": "code",
   "execution_count": 38,
   "id": "52345150-7e9f-4c98-833e-f4a0f95a717a",
   "metadata": {},
   "outputs": [],
   "source": [
    "# Forecast the next steps\n",
    "forecast_dlm = dlm_model.predictN(N=len(dlm_test))[0]"
   ]
  },
  {
   "cell_type": "code",
   "execution_count": 39,
   "id": "d409ed1f-7139-409a-bd23-599e44facfc0",
   "metadata": {},
   "outputs": [
    {
     "name": "stdout",
     "output_type": "stream",
     "text": [
      "MAE: 31.44165, MSE: 1578.72735, R-squared: 0.89135\n"
     ]
    }
   ],
   "source": [
    "dlm_mae, dlm_mse, dlm_r2 = utils.calculate_metrics(forecast_dlm, dlm_test)\n",
    "print(f\"MAE: {dlm_mae:.5f}, MSE: {dlm_mse:.5f}, R-squared: {dlm_r2:.5f}\")"
   ]
  },
  {
   "cell_type": "code",
   "execution_count": 40,
   "id": "ef83d2c5-2dfd-4e9a-8b7b-6174d47d4477",
   "metadata": {},
   "outputs": [
    {
     "data": {
      "text/plain": [
       "<AxesSubplot:xlabel='Year', ylabel='US Wine Consumption (Mgal)'>"
      ]
     },
     "execution_count": 40,
     "metadata": {},
     "output_type": "execute_result"
    },
    {
     "data": {
      "image/png": "[encoded data removed]",
      "text/plain": [
       "<Figure size 432x288 with 1 Axes>"
      ]
     },
     "metadata": {
      "needs_background": "light"
     },
     "output_type": "display_data"
    }
   ],
   "source": [
    "sns.lineplot(data=dlm_data, x=dlm_data.index, y=target[0], label=\"Actual\")\n",
    "sns.lineplot(x=dlm_test.index, y=forecast_dlm, label=\"Predicted\")"
   ]
  },
  {
   "cell_type": "markdown",
   "id": "7af3bc63-1089-41db-a194-b87acbede819",
   "metadata": {},
   "source": [
    "Cross-validation"
   ]
  },
  {
   "cell_type": "code",
   "execution_count": 41,
   "id": "e6b99060-e4f6-431e-ad66-08d87f663d66",
   "metadata": {},
   "outputs": [
    {
     "name": "stdout",
     "output_type": "stream",
     "text": [
      "Initializing models...\n",
      "Initialization finished.\n",
      "Starting forward filtering...\n",
      "Forward filtering completed.\n",
      "Starting backward smoothing...\n",
      "Backward smoothing completed.\n",
      "Initializing models...\n",
      "Initialization finished.\n",
      "Starting forward filtering...\n",
      "Forward filtering completed.\n",
      "Starting backward smoothing...\n",
      "Backward smoothing completed.\n",
      "Initializing models...\n",
      "Initialization finished.\n",
      "Starting forward filtering...\n",
      "Forward filtering completed.\n",
      "Starting backward smoothing...\n",
      "Backward smoothing completed.\n",
      "Mean MAE: 24.234349598117507\n",
      "Mean MSE: 774.6725307912753\n",
      "Mean R-squared: 0.6955018258720508\n",
      "Train sizes: min=9, max=23\n",
      "Test sizes: min=7, max=7\n",
      "\n",
      "Metrics in non-stationary context\n"
     ]
    }
   ],
   "source": [
    "dlm_params = {\"discount\": 0.95, \"features_data\": \"linear\"}\n",
    "utils.stats_models_cv(model_name=\"dlm\", data=dlm_data.iloc[-30:], params=dlm_params, n_folds=3)"
   ]
  },
  {
   "cell_type": "markdown",
   "id": "a09a7491-2336-4513-bd85-7ebdd22626d7",
   "metadata": {},
   "source": [
    "## Use Stationary Data"
   ]
  },
  {
   "cell_type": "code",
   "execution_count": 44,
   "id": "faabbfcb-0f55-436a-a218-6dccf671415e",
   "metadata": {},
   "outputs": [
    {
     "data": {
      "text/plain": [
       "(89, 6)"
      ]
     },
     "execution_count": 44,
     "metadata": {},
     "output_type": "execute_result"
    }
   ],
   "source": [
    "stationary_data = data.copy()\n",
    "stationary_data.shape"
   ]
  },
  {
   "cell_type": "code",
   "execution_count": 45,
   "id": "bd506af3-8a01-4dd0-a561-d0e01550f052",
   "metadata": {},
   "outputs": [
    {
     "data": {
      "text/plain": [
       "(88, 6)"
      ]
     },
     "execution_count": 45,
     "metadata": {},
     "output_type": "execute_result"
    }
   ],
   "source": [
    "stationary_data[\"US Wine Consumption (Mgal)\"] = utils.make_stationary(df=stationary_data, column_name=\"US Wine Consumption (Mgal)\", lag=1)\n",
    "stationary_data = stationary_data.iloc[1:]\n",
    "stationary_data.shape"
   ]
  },
  {
   "cell_type": "code",
   "execution_count": 46,
   "id": "d158004c-a9bf-4cbf-a417-61683b09ae2f",
   "metadata": {},
   "outputs": [
    {
     "name": "stdout",
     "output_type": "stream",
     "text": [
      "ADF Statistic: -3.272\n",
      "p-value: 0.016\n",
      "\n",
      "ADF test: Data is stationary\n"
     ]
    },
    {
     "data": {
      "text/plain": [
       "(-3.2723181856447514, 0.016162116316611498)"
      ]
     },
     "execution_count": 46,
     "metadata": {},
     "output_type": "execute_result"
    }
   ],
   "source": [
    "utils.adf_test(stationary_data[\"US Wine Consumption (Mgal)\"], verbose=1)"
   ]
  },
  {
   "cell_type": "code",
   "execution_count": 47,
   "id": "b5e65178-58fc-4a81-9db2-64921cb6055b",
   "metadata": {},
   "outputs": [
    {
     "data": {
      "text/plain": [
       "<AxesSubplot:xlabel='Year', ylabel='US Wine Consumption (Mgal)'>"
      ]
     },
     "execution_count": 47,
     "metadata": {},
     "output_type": "execute_result"
    },
    {
     "data": {
      "image/png": "[encoded data removed]",
      "text/plain": [
       "<Figure size 720x360 with 1 Axes>"
      ]
     },
     "metadata": {
      "needs_background": "light"
     },
     "output_type": "display_data"
    }
   ],
   "source": [
    "plt.figure(figsize=(10,5))\n",
    "sns.lineplot(data=stationary_data, x=stationary_data.index, y=\"US Wine Consumption (Mgal)\")"
   ]
  },
  {
   "cell_type": "code",
   "execution_count": 48,
   "id": "1fef949e-f0c5-43b5-a4b8-88416cf9ff6c",
   "metadata": {},
   "outputs": [
    {
     "name": "stdout",
     "output_type": "stream",
     "text": [
      "'column' made stationary with lag=1\n",
      "Mean MAE: 22.537924662974714\n",
      "Mean MSE: 899.5218222916675\n",
      "Mean R-squared: -2.2124938868306994\n",
      "Train sizes: min=24, max=66\n",
      "Test sizes: min=21, max=21\n",
      "\n",
      "Metrics in non-stationary context\n",
      "Mean MAE: 112.7443972093962\n",
      "Mean MSE: 29063.771980530786\n",
      "Mean R-squared: -5.87978096130448\n"
     ]
    },
    {
     "name": "stderr",
     "output_type": "stream",
     "text": [
      "C:\\Users\\ngoum\\Documents\\coding\\fleming_wilde\\ml_test_project\\french_winery\\utils.py:29: FutureWarning: The default dtype for empty Series will be 'object' instead of 'float64' in a future version. Specify a dtype explicitly to silence this warning.\n",
      "  back_transformed_column = pd.Series(index=range(len(differenced_data)))\n",
      "C:\\Users\\ngoum\\Documents\\coding\\fleming_wilde\\ml_test_project\\french_winery\\utils.py:29: FutureWarning: The default dtype for empty Series will be 'object' instead of 'float64' in a future version. Specify a dtype explicitly to silence this warning.\n",
      "  back_transformed_column = pd.Series(index=range(len(differenced_data)))\n",
      "C:\\Users\\ngoum\\Documents\\coding\\fleming_wilde\\ml_test_project\\french_winery\\utils.py:29: FutureWarning: The default dtype for empty Series will be 'object' instead of 'float64' in a future version. Specify a dtype explicitly to silence this warning.\n",
      "  back_transformed_column = pd.Series(index=range(len(differenced_data)))\n"
     ]
    }
   ],
   "source": [
    "hw_params = {\"seasonal_periods\": \"half\"}\n",
    "utils.stats_models_cv(model_name=\"holt-winters\", data=hw_data.iloc[:], stationary_column=\"US Wine Consumption (Mgal)\", params=hw_params, n_folds=3)"
   ]
  },
  {
   "cell_type": "code",
   "execution_count": 49,
   "id": "2deb60ed-9bed-465d-aa93-e7521938f76d",
   "metadata": {},
   "outputs": [
    {
     "name": "stdout",
     "output_type": "stream",
     "text": [
      "'column' made stationary with lag=1\n",
      "Mean MAE: 18.327333892931833\n",
      "Mean MSE: 624.2967949321169\n",
      "Mean R-squared: -0.8864905801860038\n",
      "Train sizes: min=24, max=66\n",
      "Test sizes: min=21, max=21\n",
      "\n",
      "Metrics in non-stationary context\n",
      "Mean MAE: 94.32847798450689\n",
      "Mean MSE: 21514.23027781675\n",
      "Mean R-squared: -6.011461266884676\n"
     ]
    },
    {
     "name": "stderr",
     "output_type": "stream",
     "text": [
      "C:\\Users\\ngoum\\Documents\\coding\\fleming_wilde\\ml_test_project\\french_winery\\utils.py:29: FutureWarning: The default dtype for empty Series will be 'object' instead of 'float64' in a future version. Specify a dtype explicitly to silence this warning.\n",
      "  back_transformed_column = pd.Series(index=range(len(differenced_data)))\n",
      "C:\\Users\\ngoum\\Documents\\coding\\fleming_wilde\\ml_test_project\\french_winery\\utils.py:29: FutureWarning: The default dtype for empty Series will be 'object' instead of 'float64' in a future version. Specify a dtype explicitly to silence this warning.\n",
      "  back_transformed_column = pd.Series(index=range(len(differenced_data)))\n",
      "C:\\Users\\ngoum\\Documents\\coding\\fleming_wilde\\ml_test_project\\french_winery\\utils.py:29: FutureWarning: The default dtype for empty Series will be 'object' instead of 'float64' in a future version. Specify a dtype explicitly to silence this warning.\n",
      "  back_transformed_column = pd.Series(index=range(len(differenced_data)))\n"
     ]
    }
   ],
   "source": [
    "arima_params = {\"p\": 1, \"d\": 2, \"q\": 1}\n",
    "utils.stats_models_cv(model_name=\"arima\", data=data.iloc[:-1][target], stationary_column=\"US Wine Consumption (Mgal)\", params=arima_params, n_folds=3)"
   ]
  },
  {
   "cell_type": "code",
   "execution_count": 50,
   "id": "3028bf3f-61e5-4582-9c7f-5e38e5929363",
   "metadata": {},
   "outputs": [
    {
     "name": "stderr",
     "output_type": "stream",
     "text": [
      "C:\\Users\\ngoum\\Documents\\coding\\fleming_wilde\\ml_test_project\\french_winery\\utils.py:29: FutureWarning: The default dtype for empty Series will be 'object' instead of 'float64' in a future version. Specify a dtype explicitly to silence this warning.\n",
      "  back_transformed_column = pd.Series(index=range(len(differenced_data)))\n",
      "C:\\Users\\ngoum\\Documents\\coding\\fleming_wilde\\ml_test_project\\french_winery\\utils.py:29: FutureWarning: The default dtype for empty Series will be 'object' instead of 'float64' in a future version. Specify a dtype explicitly to silence this warning.\n",
      "  back_transformed_column = pd.Series(index=range(len(differenced_data)))\n"
     ]
    },
    {
     "name": "stdout",
     "output_type": "stream",
     "text": [
      "'column' made stationary with lag=1\n",
      "Initializing models...\n",
      "Initialization finished.\n",
      "Starting forward filtering...\n",
      "Forward filtering completed.\n",
      "Starting backward smoothing...\n",
      "Backward smoothing completed.\n",
      "Initializing models...\n",
      "Initialization finished.\n",
      "Starting forward filtering...\n",
      "Forward filtering completed.\n",
      "Starting backward smoothing...\n",
      "Backward smoothing completed.\n",
      "Initializing models...\n",
      "Initialization finished.\n",
      "Starting forward filtering...\n",
      "Forward filtering completed.\n",
      "Starting backward smoothing...\n",
      "Backward smoothing completed.\n",
      "Mean MAE: 20.7049653180534\n",
      "Mean MSE: 754.6904251624596\n",
      "Mean R-squared: -0.9322431155401788\n",
      "Train sizes: min=24, max=66\n",
      "Test sizes: min=21, max=21\n",
      "\n",
      "Metrics in non-stationary context\n",
      "Mean MAE: 144.8234364059767\n",
      "Mean MSE: 35352.46404100446\n",
      "Mean R-squared: -8.596473661537678\n"
     ]
    },
    {
     "name": "stderr",
     "output_type": "stream",
     "text": [
      "C:\\Users\\ngoum\\Documents\\coding\\fleming_wilde\\ml_test_project\\french_winery\\utils.py:29: FutureWarning: The default dtype for empty Series will be 'object' instead of 'float64' in a future version. Specify a dtype explicitly to silence this warning.\n",
      "  back_transformed_column = pd.Series(index=range(len(differenced_data)))\n"
     ]
    }
   ],
   "source": [
    "dlm_params = {\"discount\": 0.95, \"features_data\": \"linear\"}\n",
    "utils.stats_models_cv(model_name=\"dlm\", data=data.iloc[:-1][target], stationary_column=\"US Wine Consumption (Mgal)\", params=dlm_params, n_folds=3)"
   ]
  },
  {
   "cell_type": "code",
   "execution_count": null,
   "id": "951e9792-8248-49fd-828a-db1e552b7641",
   "metadata": {},
   "outputs": [],
   "source": []
  }
 ],
 "metadata": {
  "kernelspec": {
   "display_name": "dl-env",
   "language": "python",
   "name": "dl-env"
  },
  "language_info": {
   "codemirror_mode": {
    "name": "ipython",
    "version": 3
   },
   "file_extension": ".py",
   "mimetype": "text/x-python",
   "name": "python",
   "nbconvert_exporter": "python",
   "pygments_lexer": "ipython3",
   "version": "3.9.12"
  }
 },
 "nbformat": 4,
 "nbformat_minor": 5
}
