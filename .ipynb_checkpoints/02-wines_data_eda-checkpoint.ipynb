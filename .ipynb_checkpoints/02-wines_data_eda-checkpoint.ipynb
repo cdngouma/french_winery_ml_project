{
 "cells": [
  {
   "cell_type": "code",
   "execution_count": 1,
   "id": "bb2f339f-9ea5-4ebf-bd77-8969212c8130",
   "metadata": {},
   "outputs": [],
   "source": [
    "import pandas as pd\n",
    "import numpy as np\n",
    "import scipy.stats as stats\n",
    "import matplotlib.pyplot as plt\n",
    "import plotly.express as px \n",
    "import seaborn as sns\n",
    "import re\n",
    "import json\n",
    "\n",
    "from sklearn.feature_extraction.text import TfidfVectorizer\n",
    "from nltk.tokenize import word_tokenize\n",
    "from nltk.corpus import stopwords\n",
    "from nltk.stem import WordNetLemmatizer\n",
    "from nltk import pos_tag\n",
    "\n",
    "from collections import Counter\n",
    "\n",
    "from scipy.stats import kruskal\n",
    "from scipy.stats import f_oneway\n",
    "\n",
    "from sklearn.manifold import TSNE\n",
    "from sklearn.decomposition import PCA\n",
    "from sklearn.decomposition import TruncatedSVD\n",
    "from sklearn.preprocessing import StandardScaler\n",
    "from sklearn.cluster import KMeans\n",
    "from sklearn.cluster import AgglomerativeClustering"
   ]
  },
  {
   "cell_type": "markdown",
   "id": "102f06d6-3096-458c-a7fa-f52fe18ed119",
   "metadata": {},
   "source": [
    "In this notebook we have a look at [`winemag-data-130k-v2.csv`](https://www.kaggle.com/datasets/zynicide/wine-reviews)] which contain data about general information about wine. `winemag-data-130k-v2.csv` has 129971 entries and 14 columns.\n",
    "\n",
    "Considering the data contained in this dataset as well as the problem to be solved, our study could have two goals: (1) identify the factors that drive the price of wine and (2) identify what influence the ratings of wine. For this, we would consider the following columns:\n",
    "* `id`: Unique identification of the wine.\n",
    "* `country`: The country that the wine is from.\n",
    "* `points`: The number of points WineEnthusiast rated the wine on a scale of 1-100.\n",
    "* `price`: The cost for a bottle of the wine.\n",
    "* `province`: The province or state that the wine is from.\n",
    "* `region_1`: The wine growing area in a province or state.\n",
    "* `title`: The title of the wine review.\n",
    "* `variety`: The type of grapes used to make the wine.\n",
    "* `winery`: The winery that made the wine.\n",
    "\n",
    "Findings:\n",
    "* Wine from certain countries are more expensive than others. On average, the most expensive wines comes from Europe and North America, followed by Oceania and the Middle East.\n",
    "* The most expensive wine bottle cost \\\\$3300 while the cheapest is \\\\$4.\n",
    "* There is a strong monotonic relationship between `price` and `points`. The higher the rating, the higher the price.\n",
    "* Country is associated with the price of wine as well as the wine customer ratings. Some countries produces on average more expensive and/or higher rated wine than others.\n",
    "* Some variety of wine tend are associated with higher prices and/or ratings compared to others. The highest rated and most expensive wine variety is Nebbiolo.\n",
    "* Similarly, certain wineries produces wine sold for different prices and receive different ratings.\n",
    "* When it comes to price, the difference depending on the factors mentionned earlier is quite significant.\n",
    "* When it comes to ratings (points), the wine ratings range is from 80 to 100 in the dataset."
   ]
  },
  {
   "cell_type": "code",
   "execution_count": 2,
   "id": "a0305fac-4a77-497d-9c12-2ed01f89b481",
   "metadata": {},
   "outputs": [],
   "source": [
    "def map_country_to_region(country):\n",
    "    with open(\"country_region.json\") as f:\n",
    "        wine_regions = json.load(f)    \n",
    "        return wine_regions.get(country, 'Region not found')"
   ]
  },
  {
   "cell_type": "markdown",
   "id": "9dc3f62d-4fbe-440b-807b-8152f770d63e",
   "metadata": {},
   "source": [
    "## Import data"
   ]
  },
  {
   "cell_type": "code",
   "execution_count": 3,
   "id": "6e95d41b-6b67-425f-8864-b95df648e191",
   "metadata": {},
   "outputs": [
    {
     "data": {
      "text/plain": [
       "(129971, 14)"
      ]
     },
     "execution_count": 3,
     "metadata": {},
     "output_type": "execute_result"
    }
   ],
   "source": [
    "winemag = pd.read_csv(\"dataset/winemag-data-130k-v2.csv\")\n",
    "winemag.shape"
   ]
  },
  {
   "cell_type": "markdown",
   "id": "1bd56967-4855-4fed-b3d1-0caf18884c30",
   "metadata": {},
   "source": [
    "## Winemag"
   ]
  },
  {
   "cell_type": "code",
   "execution_count": 4,
   "id": "81af1918-813b-4857-8349-7634185a00e4",
   "metadata": {},
   "outputs": [
    {
     "name": "stdout",
     "output_type": "stream",
     "text": [
      "<class 'pandas.core.frame.DataFrame'>\n",
      "RangeIndex: 129971 entries, 0 to 129970\n",
      "Data columns (total 14 columns):\n",
      " #   Column                 Non-Null Count   Dtype  \n",
      "---  ------                 --------------   -----  \n",
      " 0   id                     129971 non-null  int64  \n",
      " 1   country                129908 non-null  object \n",
      " 2   description            129971 non-null  object \n",
      " 3   designation            92506 non-null   object \n",
      " 4   points                 129971 non-null  int64  \n",
      " 5   price                  120975 non-null  float64\n",
      " 6   province               129908 non-null  object \n",
      " 7   region_1               108724 non-null  object \n",
      " 8   region_2               50511 non-null   object \n",
      " 9   taster_name            103727 non-null  object \n",
      " 10  taster_twitter_handle  98758 non-null   object \n",
      " 11  title                  129971 non-null  object \n",
      " 12  variety                129970 non-null  object \n",
      " 13  winery                 129971 non-null  object \n",
      "dtypes: float64(1), int64(2), object(11)\n",
      "memory usage: 13.9+ MB\n"
     ]
    }
   ],
   "source": [
    "winemag.info()"
   ]
  },
  {
   "cell_type": "code",
   "execution_count": 5,
   "id": "f92e3d53-945f-4326-9731-f92265a4467d",
   "metadata": {},
   "outputs": [],
   "source": [
    "winemag_columns = [\"id\", \"country\", \"points\", \"price\", \"province\", \"region_1\", \"title\", \"description\", \"variety\", \"winery\"]"
   ]
  },
  {
   "cell_type": "code",
   "execution_count": 6,
   "id": "dc86539a-cee6-46c1-88b9-bc1bd28164cd",
   "metadata": {},
   "outputs": [
    {
     "data": {
      "text/plain": [
       "(129971, 10)"
      ]
     },
     "execution_count": 6,
     "metadata": {},
     "output_type": "execute_result"
    }
   ],
   "source": [
    "winemag_clean = winemag[winemag_columns]\n",
    "winemag_clean.shape"
   ]
  },
  {
   "cell_type": "code",
   "execution_count": 7,
   "id": "e656ccb0-9f34-4ba2-8ebb-35c7af77228b",
   "metadata": {},
   "outputs": [
    {
     "data": {
      "text/plain": [
       "id                 0\n",
       "country           63\n",
       "points             0\n",
       "price           8996\n",
       "province          63\n",
       "region_1       21247\n",
       "title              0\n",
       "description        0\n",
       "variety            1\n",
       "winery             0\n",
       "dtype: int64"
      ]
     },
     "execution_count": 7,
     "metadata": {},
     "output_type": "execute_result"
    }
   ],
   "source": [
    "winemag_clean.isnull().sum()"
   ]
  },
  {
   "cell_type": "markdown",
   "id": "90891a3a-efef-4d48-bb47-3c0b7c772453",
   "metadata": {},
   "source": [
    "We remove entries with no `country` or `price`"
   ]
  },
  {
   "cell_type": "code",
   "execution_count": 8,
   "id": "59ad4adb-6a3e-474c-bd97-5e0daecbdcd7",
   "metadata": {},
   "outputs": [
    {
     "data": {
      "text/plain": [
       "(120916, 10)"
      ]
     },
     "execution_count": 8,
     "metadata": {},
     "output_type": "execute_result"
    }
   ],
   "source": [
    "winemag_clean = winemag_clean[(~winemag_clean[\"country\"].isnull()) & (~winemag_clean[\"price\"].isnull())]\n",
    "winemag_clean.shape"
   ]
  },
  {
   "cell_type": "markdown",
   "id": "1f3a23e3-010c-4a46-a30b-d4765acbb149",
   "metadata": {},
   "source": [
    "Only one entry doesn't have a `variety`"
   ]
  },
  {
   "cell_type": "code",
   "execution_count": 9,
   "id": "a4f99f2c-0070-454e-8a56-02e078ae7862",
   "metadata": {},
   "outputs": [],
   "source": [
    "winemag_clean = winemag_clean[~winemag_clean[\"variety\"].isnull()]"
   ]
  },
  {
   "cell_type": "markdown",
   "id": "e0e796d8-bc79-4542-b2e9-90486107c22b",
   "metadata": {},
   "source": [
    "Handle duplicates"
   ]
  },
  {
   "cell_type": "code",
   "execution_count": 10,
   "id": "4378e841-f9d9-4446-8330-e35000c3c64f",
   "metadata": {},
   "outputs": [
    {
     "name": "stdout",
     "output_type": "stream",
     "text": [
      "We have 9378 duplicates\n"
     ]
    }
   ],
   "source": [
    "print(f'We have {winemag_clean.drop(\"id\", axis=1).duplicated().sum()} duplicates')"
   ]
  },
  {
   "cell_type": "code",
   "execution_count": 11,
   "id": "b05a1ab8-b650-4445-9a1b-a806517b372a",
   "metadata": {},
   "outputs": [],
   "source": [
    "winemag_clean = winemag_clean.drop(\"id\", axis=1).drop_duplicates()"
   ]
  },
  {
   "cell_type": "code",
   "execution_count": 12,
   "id": "925776d4-9294-46d0-ab43-88fa67239640",
   "metadata": {},
   "outputs": [
    {
     "name": "stdout",
     "output_type": "stream",
     "text": [
      "1729 wine titles are duplicated\n"
     ]
    }
   ],
   "source": [
    "print(f\"{winemag_clean.duplicated(subset=['title'], keep=False).sum()} wine titles are duplicated\")"
   ]
  },
  {
   "cell_type": "code",
   "execution_count": 13,
   "id": "357efeb8-a0e0-4bbc-9003-1a76f3d92b26",
   "metadata": {},
   "outputs": [
    {
     "data": {
      "text/html": [
       "<div>\n",
       "<style scoped>\n",
       "    .dataframe tbody tr th:only-of-type {\n",
       "        vertical-align: middle;\n",
       "    }\n",
       "\n",
       "    .dataframe tbody tr th {\n",
       "        vertical-align: top;\n",
       "    }\n",
       "\n",
       "    .dataframe thead th {\n",
       "        text-align: right;\n",
       "    }\n",
       "</style>\n",
       "<table border=\"1\" class=\"dataframe\">\n",
       "  <thead>\n",
       "    <tr style=\"text-align: right;\">\n",
       "      <th></th>\n",
       "      <th>country</th>\n",
       "      <th>points</th>\n",
       "      <th>price</th>\n",
       "      <th>province</th>\n",
       "      <th>region_1</th>\n",
       "      <th>title</th>\n",
       "      <th>description</th>\n",
       "      <th>variety</th>\n",
       "      <th>winery</th>\n",
       "    </tr>\n",
       "  </thead>\n",
       "  <tbody>\n",
       "    <tr>\n",
       "      <th>55163</th>\n",
       "      <td>Spain</td>\n",
       "      <td>87</td>\n",
       "      <td>16.0</td>\n",
       "      <td>Catalonia</td>\n",
       "      <td>Cava</td>\n",
       "      <td>1+1=3 NV Brut Sparkling (Cava)</td>\n",
       "      <td>Spiced apple and toast aromas are clean and di...</td>\n",
       "      <td>Sparkling Blend</td>\n",
       "      <td>1+1=3</td>\n",
       "    </tr>\n",
       "    <tr>\n",
       "      <th>93375</th>\n",
       "      <td>Spain</td>\n",
       "      <td>87</td>\n",
       "      <td>16.0</td>\n",
       "      <td>Catalonia</td>\n",
       "      <td>Cava</td>\n",
       "      <td>1+1=3 NV Brut Sparkling (Cava)</td>\n",
       "      <td>Dusty notes of citrus fruits are mild but frie...</td>\n",
       "      <td>Sparkling Blend</td>\n",
       "      <td>1+1=3</td>\n",
       "    </tr>\n",
       "    <tr>\n",
       "      <th>36820</th>\n",
       "      <td>France</td>\n",
       "      <td>89</td>\n",
       "      <td>49.0</td>\n",
       "      <td>Champagne</td>\n",
       "      <td>Champagne</td>\n",
       "      <td>A.R. Lenoble  NV Dosage Zéro Brut Nature  (Cha...</td>\n",
       "      <td>Bone dry and crisp, this is also has fruitines...</td>\n",
       "      <td>Champagne Blend</td>\n",
       "      <td>A.R. Lenoble</td>\n",
       "    </tr>\n",
       "    <tr>\n",
       "      <th>115461</th>\n",
       "      <td>France</td>\n",
       "      <td>90</td>\n",
       "      <td>49.0</td>\n",
       "      <td>Champagne</td>\n",
       "      <td>Champagne</td>\n",
       "      <td>A.R. Lenoble  NV Dosage Zéro Brut Nature  (Cha...</td>\n",
       "      <td>With zero grams of residual sugar, this is win...</td>\n",
       "      <td>Champagne Blend</td>\n",
       "      <td>A.R. Lenoble</td>\n",
       "    </tr>\n",
       "    <tr>\n",
       "      <th>38053</th>\n",
       "      <td>France</td>\n",
       "      <td>90</td>\n",
       "      <td>49.0</td>\n",
       "      <td>Champagne</td>\n",
       "      <td>Champagne</td>\n",
       "      <td>A.R. Lenoble  NV Dosage Zéro Brut Nature  (Cha...</td>\n",
       "      <td>This tight crisp wine delivers citrus and slic...</td>\n",
       "      <td>Champagne Blend</td>\n",
       "      <td>A.R. Lenoble</td>\n",
       "    </tr>\n",
       "    <tr>\n",
       "      <th>62767</th>\n",
       "      <td>France</td>\n",
       "      <td>91</td>\n",
       "      <td>54.0</td>\n",
       "      <td>Champagne</td>\n",
       "      <td>Champagne</td>\n",
       "      <td>A.R. Lenoble  NV Grand Cru Blanc de Blancs Cho...</td>\n",
       "      <td>This is a very lively wine with a creamy mouss...</td>\n",
       "      <td>Chardonnay</td>\n",
       "      <td>A.R. Lenoble</td>\n",
       "    </tr>\n",
       "    <tr>\n",
       "      <th>58493</th>\n",
       "      <td>France</td>\n",
       "      <td>92</td>\n",
       "      <td>54.0</td>\n",
       "      <td>Champagne</td>\n",
       "      <td>Champagne</td>\n",
       "      <td>A.R. Lenoble  NV Grand Cru Blanc de Blancs Cho...</td>\n",
       "      <td>The wine comes from the Grand Cru village of C...</td>\n",
       "      <td>Chardonnay</td>\n",
       "      <td>A.R. Lenoble</td>\n",
       "    </tr>\n",
       "    <tr>\n",
       "      <th>38054</th>\n",
       "      <td>France</td>\n",
       "      <td>90</td>\n",
       "      <td>45.0</td>\n",
       "      <td>Champagne</td>\n",
       "      <td>Champagne</td>\n",
       "      <td>A.R. Lenoble  NV Intense Brut  (Champagne)</td>\n",
       "      <td>A quarter of this nonvintage blend was vinifie...</td>\n",
       "      <td>Champagne Blend</td>\n",
       "      <td>A.R. Lenoble</td>\n",
       "    </tr>\n",
       "    <tr>\n",
       "      <th>70823</th>\n",
       "      <td>France</td>\n",
       "      <td>89</td>\n",
       "      <td>45.0</td>\n",
       "      <td>Champagne</td>\n",
       "      <td>Champagne</td>\n",
       "      <td>A.R. Lenoble  NV Intense Brut  (Champagne)</td>\n",
       "      <td>With vineyards in the Marne Valley, this Champ...</td>\n",
       "      <td>Champagne Blend</td>\n",
       "      <td>A.R. Lenoble</td>\n",
       "    </tr>\n",
       "    <tr>\n",
       "      <th>88320</th>\n",
       "      <td>France</td>\n",
       "      <td>90</td>\n",
       "      <td>45.0</td>\n",
       "      <td>Champagne</td>\n",
       "      <td>Champagne</td>\n",
       "      <td>A.R. Lenoble  NV Intense Brut  (Champagne)</td>\n",
       "      <td>Intense is a good description of this tightly ...</td>\n",
       "      <td>Champagne Blend</td>\n",
       "      <td>A.R. Lenoble</td>\n",
       "    </tr>\n",
       "  </tbody>\n",
       "</table>\n",
       "</div>"
      ],
      "text/plain": [
       "       country  points  price   province   region_1  \\\n",
       "55163    Spain      87   16.0  Catalonia       Cava   \n",
       "93375    Spain      87   16.0  Catalonia       Cava   \n",
       "36820   France      89   49.0  Champagne  Champagne   \n",
       "115461  France      90   49.0  Champagne  Champagne   \n",
       "38053   France      90   49.0  Champagne  Champagne   \n",
       "62767   France      91   54.0  Champagne  Champagne   \n",
       "58493   France      92   54.0  Champagne  Champagne   \n",
       "38054   France      90   45.0  Champagne  Champagne   \n",
       "70823   France      89   45.0  Champagne  Champagne   \n",
       "88320   France      90   45.0  Champagne  Champagne   \n",
       "\n",
       "                                                    title  \\\n",
       "55163                      1+1=3 NV Brut Sparkling (Cava)   \n",
       "93375                      1+1=3 NV Brut Sparkling (Cava)   \n",
       "36820   A.R. Lenoble  NV Dosage Zéro Brut Nature  (Cha...   \n",
       "115461  A.R. Lenoble  NV Dosage Zéro Brut Nature  (Cha...   \n",
       "38053   A.R. Lenoble  NV Dosage Zéro Brut Nature  (Cha...   \n",
       "62767   A.R. Lenoble  NV Grand Cru Blanc de Blancs Cho...   \n",
       "58493   A.R. Lenoble  NV Grand Cru Blanc de Blancs Cho...   \n",
       "38054          A.R. Lenoble  NV Intense Brut  (Champagne)   \n",
       "70823          A.R. Lenoble  NV Intense Brut  (Champagne)   \n",
       "88320          A.R. Lenoble  NV Intense Brut  (Champagne)   \n",
       "\n",
       "                                              description          variety  \\\n",
       "55163   Spiced apple and toast aromas are clean and di...  Sparkling Blend   \n",
       "93375   Dusty notes of citrus fruits are mild but frie...  Sparkling Blend   \n",
       "36820   Bone dry and crisp, this is also has fruitines...  Champagne Blend   \n",
       "115461  With zero grams of residual sugar, this is win...  Champagne Blend   \n",
       "38053   This tight crisp wine delivers citrus and slic...  Champagne Blend   \n",
       "62767   This is a very lively wine with a creamy mouss...       Chardonnay   \n",
       "58493   The wine comes from the Grand Cru village of C...       Chardonnay   \n",
       "38054   A quarter of this nonvintage blend was vinifie...  Champagne Blend   \n",
       "70823   With vineyards in the Marne Valley, this Champ...  Champagne Blend   \n",
       "88320   Intense is a good description of this tightly ...  Champagne Blend   \n",
       "\n",
       "               winery  \n",
       "55163           1+1=3  \n",
       "93375           1+1=3  \n",
       "36820   A.R. Lenoble   \n",
       "115461  A.R. Lenoble   \n",
       "38053   A.R. Lenoble   \n",
       "62767   A.R. Lenoble   \n",
       "58493   A.R. Lenoble   \n",
       "38054   A.R. Lenoble   \n",
       "70823   A.R. Lenoble   \n",
       "88320   A.R. Lenoble   "
      ]
     },
     "execution_count": 13,
     "metadata": {},
     "output_type": "execute_result"
    }
   ],
   "source": [
    "winemag_clean[winemag_clean.duplicated(subset=['title'], keep=False)].sort_values(by=\"title\").head(10)"
   ]
  },
  {
   "cell_type": "markdown",
   "id": "0dfccbdb-1035-4f7a-9ce2-f6c8244be9df",
   "metadata": {},
   "source": [
    "We observe that when wines have the same title/name, the difference lies in the `price`, `points`, and the `variety`. We remove duplicates using the following method:\n",
    "1. If the difference lies in the `price` and/or `points`, we average these values.\n",
    "2. If the difference is in the `variety`, then we keep them."
   ]
  },
  {
   "cell_type": "code",
   "execution_count": 14,
   "id": "276bcf4c-9a6c-45e5-9f4f-11103102efc5",
   "metadata": {},
   "outputs": [],
   "source": [
    "def remove_duplicated_titles(df):\n",
    "    duplicates = df[df[\"title\"].duplicated(keep=False)].copy()\n",
    "    uniques = df.drop_duplicates(subset=\"title\", keep=False).copy()\n",
    "    \n",
    "    duplicates[\"price\"] = np.round(duplicates.apply(lambda x: duplicates.loc[(duplicates[\"title\"] == x[\"title\"]) & (duplicates[\"variety\"] == x[\"variety\"]), \"price\"].mean(), axis=1), 2)\n",
    "    duplicates[\"points\"] = np.round(duplicates.apply(lambda x: duplicates.loc[(duplicates[\"title\"] == x[\"title\"]) & (duplicates[\"variety\"] == x[\"variety\"]), \"points\"].mean(), axis=1), 0).astype(int)\n",
    "    \n",
    "    df = pd.concat([uniques, duplicates])\n",
    "    df.sort_index()\n",
    "    \n",
    "    df = df.drop_duplicates()\n",
    "    \n",
    "    return df"
   ]
  },
  {
   "cell_type": "code",
   "execution_count": 15,
   "id": "84ef8b18-fc57-41d1-995d-60f538375354",
   "metadata": {},
   "outputs": [],
   "source": [
    "winemag_clean = remove_duplicated_titles(winemag_clean)"
   ]
  },
  {
   "cell_type": "code",
   "execution_count": 16,
   "id": "f7df068e-a35a-4f42-a783-0e427c701cb5",
   "metadata": {},
   "outputs": [
    {
     "data": {
      "text/plain": [
       "793"
      ]
     },
     "execution_count": 16,
     "metadata": {},
     "output_type": "execute_result"
    }
   ],
   "source": [
    "winemag_clean.duplicated(subset=[\"title\", \"variety\"]).sum()"
   ]
  },
  {
   "cell_type": "markdown",
   "id": "3d5fdde5-d9f8-4a0c-868c-6f058a4de12b",
   "metadata": {},
   "source": [
    "### `price`"
   ]
  },
  {
   "cell_type": "markdown",
   "id": "3f6f9a91-ab70-4505-bbf5-7697b4e4eccb",
   "metadata": {},
   "source": [
    "Observations:\n",
    "* 99.4% of wines cost \\\\$200 or less and half of the wines in the dataset cost less than \\\\$25.\n",
    "* When categorized the distribution of wine prices follows a normal distribution. Wine with moderate prices (\\\\$20-\\\\$50) are most numerous, followed by affordable (\\\\$10-\\\\$20) wines then expensive (\\\\$50-\\\\$200)."
   ]
  },
  {
   "cell_type": "code",
   "execution_count": 17,
   "id": "a3403ad6-2e48-4650-b087-c3c9a422902a",
   "metadata": {},
   "outputs": [
    {
     "data": {
      "text/plain": [
       "0"
      ]
     },
     "execution_count": 17,
     "metadata": {},
     "output_type": "execute_result"
    }
   ],
   "source": [
    "winemag_clean[\"price\"].isnull().sum()"
   ]
  },
  {
   "cell_type": "code",
   "execution_count": 18,
   "id": "48834e0d-0e1f-4e59-8641-50481a4e669c",
   "metadata": {},
   "outputs": [
    {
     "data": {
      "text/plain": [
       "min        4.000000\n",
       "mean      35.626276\n",
       "max     3300.000000\n",
       "std       42.109169\n",
       "Name: price, dtype: float64"
      ]
     },
     "execution_count": 18,
     "metadata": {},
     "output_type": "execute_result"
    }
   ],
   "source": [
    "winemag_clean[\"price\"].describe()[[\"min\", \"mean\", \"max\", \"std\"]]"
   ]
  },
  {
   "cell_type": "code",
   "execution_count": 19,
   "id": "4770c332-5b2e-47b4-8af4-3dd510145a31",
   "metadata": {},
   "outputs": [
    {
     "data": {
      "text/plain": [
       "<AxesSubplot:xlabel='price', ylabel='Count'>"
      ]
     },
     "execution_count": 19,
     "metadata": {},
     "output_type": "execute_result"
    },
    {
     "data": {
      "image/png": "[encoded data removed]",
      "text/plain": [
       "<Figure size 504x288 with 1 Axes>"
      ]
     },
     "metadata": {
      "needs_background": "light"
     },
     "output_type": "display_data"
    }
   ],
   "source": [
    "plt.figure(figsize=(7,4))\n",
    "sns.histplot(data=winemag_clean, x=\"price\", bins=100, color='tab:blue')"
   ]
  },
  {
   "cell_type": "code",
   "execution_count": 20,
   "id": "fb22a9a4-35f8-4081-aaa7-cb797a42441a",
   "metadata": {},
   "outputs": [],
   "source": [
    "def indentify_outliers(arr):\n",
    "    q1 = np.percentile(arr, 25)\n",
    "    q3 = np.percentile(arr, 75)\n",
    "    \n",
    "    iqr = q3 - q1\n",
    "    threshold = 1.5\n",
    "\n",
    "    outliers = arr[(arr < q1 - threshold * iqr) | (arr > q3 + threshold * iqr)]\n",
    "    \n",
    "    return outliers"
   ]
  },
  {
   "cell_type": "code",
   "execution_count": 21,
   "id": "f8bdd273-96ee-444b-bb81-9b96eb29c32c",
   "metadata": {},
   "outputs": [],
   "source": [
    "price_outliers = indentify_outliers(winemag_clean[\"price\"].values)"
   ]
  },
  {
   "cell_type": "code",
   "execution_count": 22,
   "id": "19a1e1ce-b56b-43b7-ae79-fcad24f0b5ef",
   "metadata": {},
   "outputs": [
    {
     "data": {
      "text/plain": [
       "(80.0, 3300.0)"
      ]
     },
     "execution_count": 22,
     "metadata": {},
     "output_type": "execute_result"
    }
   ],
   "source": [
    "np.min(price_outliers), np.max(price_outliers)"
   ]
  },
  {
   "cell_type": "code",
   "execution_count": 23,
   "id": "35b7dddb-77da-4bfa-82ac-b5505039ed48",
   "metadata": {},
   "outputs": [
    {
     "name": "stdout",
     "output_type": "stream",
     "text": [
      "99.4% of wine bottles cost $200 or less\n",
      "6.15% of wine bottles cost over $80\n",
      "93.85% of wine bottles cost less than $80\n",
      "50.55% of wine bottles cost $25 or less\n"
     ]
    }
   ],
   "source": [
    "print(f'{np.round((winemag_clean[\"price\"] <= 200).sum() / winemag_clean.shape[0] * 100, 2)}% of wine bottles cost $200 or less')\n",
    "print(f'{np.round((winemag_clean[\"price\"] >= 80).sum() / winemag_clean.shape[0] * 100, 2)}% of wine bottles cost over $80')\n",
    "print(f'{np.round((winemag_clean[\"price\"] < 80).sum() / winemag_clean.shape[0] * 100, 2)}% of wine bottles cost less than $80')\n",
    "print(f'{np.round((winemag_clean[\"price\"] <= 25).sum() / winemag_clean.shape[0] * 100, 2)}% of wine bottles cost $25 or less')"
   ]
  },
  {
   "cell_type": "code",
   "execution_count": 24,
   "id": "e256efcf-075c-4611-97a5-4948d3b50c8c",
   "metadata": {},
   "outputs": [],
   "source": [
    "winemag_clean = winemag_clean[winemag_clean[\"price\"] < 80]"
   ]
  },
  {
   "cell_type": "code",
   "execution_count": 25,
   "id": "feac4191-fbdd-46ea-b8f0-77086b111ea2",
   "metadata": {},
   "outputs": [
    {
     "data": {
      "text/plain": [
       "<AxesSubplot:xlabel='price'>"
      ]
     },
     "execution_count": 25,
     "metadata": {},
     "output_type": "execute_result"
    },
    {
     "data": {
      "image/png": "[encoded data removed]",
      "text/plain": [
       "<Figure size 504x288 with 1 Axes>"
      ]
     },
     "metadata": {
      "needs_background": "light"
     },
     "output_type": "display_data"
    }
   ],
   "source": [
    "plt.figure(figsize=(7,4))\n",
    "sns.boxplot(data=winemag_clean[winemag_clean[\"price\"] < 80], x=\"price\", color='tab:blue')"
   ]
  },
  {
   "cell_type": "markdown",
   "id": "1fe42f6d-54dd-42ef-8b1e-d08576dffb25",
   "metadata": {},
   "source": [
    "Let's categorize prices"
   ]
  },
  {
   "cell_type": "code",
   "execution_count": 26,
   "id": "e19fd866-37dc-43a0-beb7-614823c25c00",
   "metadata": {},
   "outputs": [],
   "source": [
    "def categorize_wine_price(price):\n",
    "    if price < 0:\n",
    "        raise Error(\"Negative price\")\n",
    "    \n",
    "    if price <= 10:\n",
    "        return \"0-10\"\n",
    "    elif price < 20:\n",
    "        return \"11-20\"\n",
    "    elif price < 50:\n",
    "        return \"21-50\"\n",
    "    else:\n",
    "        return \"50+\""
   ]
  },
  {
   "cell_type": "code",
   "execution_count": 27,
   "id": "94f131da-a062-46dd-a783-81cb87e294ac",
   "metadata": {},
   "outputs": [],
   "source": [
    "winemag_clean[\"price_group\"] = winemag_clean[\"price\"].apply(categorize_wine_price)"
   ]
  },
  {
   "cell_type": "code",
   "execution_count": 28,
   "id": "6a346424-a378-46ca-99bc-b6ed83224b71",
   "metadata": {},
   "outputs": [],
   "source": [
    "price_cat_order = [\"0-10\", \"11-20\", \"21-50\", \"50+\"]\n",
    "winemag_clean[\"price_group\"] = pd.Categorical(winemag_clean['price_group'], categories=price_cat_order, ordered=True)"
   ]
  },
  {
   "cell_type": "code",
   "execution_count": 29,
   "id": "b6201b23-9edb-48ac-ab0b-42a66ee89ad0",
   "metadata": {},
   "outputs": [
    {
     "data": {
      "text/plain": [
       "<AxesSubplot:xlabel='price_group', ylabel='Count'>"
      ]
     },
     "execution_count": 29,
     "metadata": {},
     "output_type": "execute_result"
    },
    {
     "data": {
      "image/png": "[encoded data removed]",
      "text/plain": [
       "<Figure size 576x288 with 1 Axes>"
      ]
     },
     "metadata": {
      "needs_background": "light"
     },
     "output_type": "display_data"
    }
   ],
   "source": [
    "plt.figure(figsize=(8,4))\n",
    "sns.histplot(data=winemag_clean.sort_values(by=\"price_group\"), x=\"price_group\", color='tab:blue')"
   ]
  },
  {
   "cell_type": "markdown",
   "id": "78c957c5-0cfa-4e23-bea1-96489835f572",
   "metadata": {},
   "source": [
    "### `points`"
   ]
  },
  {
   "cell_type": "markdown",
   "id": "97946ffa-3d48-4161-b075-d84158f0c472",
   "metadata": {},
   "source": [
    "Observations:\n",
    "* Most wines have a good rating of at least 80/100.\n",
    "* The higher the rating, the higher the price. There is a strong monotonic relationship between `price` and `points`.\n",
    "\n",
    "**Conclusion:** `points` is correlated to `price`."
   ]
  },
  {
   "cell_type": "code",
   "execution_count": 30,
   "id": "0fd7011a-d434-4ac9-9989-241b2a84541f",
   "metadata": {},
   "outputs": [
    {
     "data": {
      "text/plain": [
       "0"
      ]
     },
     "execution_count": 30,
     "metadata": {},
     "output_type": "execute_result"
    }
   ],
   "source": [
    "winemag_clean[\"points\"].isnull().sum()"
   ]
  },
  {
   "cell_type": "code",
   "execution_count": 31,
   "id": "a59af415-10f9-4dba-a929-ba5a6e6d9bf2",
   "metadata": {},
   "outputs": [
    {
     "data": {
      "text/plain": [
       "min    80.0\n",
       "max    99.0\n",
       "Name: points, dtype: float64"
      ]
     },
     "execution_count": 31,
     "metadata": {},
     "output_type": "execute_result"
    }
   ],
   "source": [
    "winemag_clean[\"points\"].describe()[[\"min\", \"max\"]]"
   ]
  },
  {
   "cell_type": "code",
   "execution_count": 32,
   "id": "1868985a-8821-438d-8d64-cea8158425ea",
   "metadata": {},
   "outputs": [
    {
     "data": {
      "text/plain": [
       "<AxesSubplot:xlabel='points'>"
      ]
     },
     "execution_count": 32,
     "metadata": {},
     "output_type": "execute_result"
    },
    {
     "data": {
      "image/png": "[encoded data removed]",
      "text/plain": [
       "<Figure size 504x288 with 1 Axes>"
      ]
     },
     "metadata": {
      "needs_background": "light"
     },
     "output_type": "display_data"
    }
   ],
   "source": [
    "plt.figure(figsize=(7,4))\n",
    "sns.boxplot(data=winemag_clean, x=\"points\", color='tab:blue')"
   ]
  },
  {
   "cell_type": "code",
   "execution_count": 33,
   "id": "32957194-b2c4-4017-93fb-008232e588df",
   "metadata": {},
   "outputs": [
    {
     "data": {
      "text/plain": [
       "<AxesSubplot:xlabel='points', ylabel='Count'>"
      ]
     },
     "execution_count": 33,
     "metadata": {},
     "output_type": "execute_result"
    },
    {
     "data": {
      "image/png": "[encoded data removed]",
      "text/plain": [
       "<Figure size 504x288 with 1 Axes>"
      ]
     },
     "metadata": {
      "needs_background": "light"
     },
     "output_type": "display_data"
    }
   ],
   "source": [
    "plt.figure(figsize=(7,4))\n",
    "sns.histplot(data=winemag_clean, x=\"points\", bins=20, color='tab:blue')"
   ]
  },
  {
   "cell_type": "markdown",
   "id": "1b154f00-f833-4e1a-ad3f-bd320a74f842",
   "metadata": {},
   "source": [
    "#### Relationship between `price` and `points`"
   ]
  },
  {
   "cell_type": "code",
   "execution_count": 34,
   "id": "afd999b0-bd3b-4108-bd9a-85a07ef40732",
   "metadata": {},
   "outputs": [
    {
     "data": {
      "text/plain": [
       "<AxesSubplot:xlabel='price', ylabel='points'>"
      ]
     },
     "execution_count": 34,
     "metadata": {},
     "output_type": "execute_result"
    },
    {
     "data": {
      "image/png": "[encoded data removed]",
      "text/plain": [
       "<Figure size 504x288 with 1 Axes>"
      ]
     },
     "metadata": {
      "needs_background": "light"
     },
     "output_type": "display_data"
    }
   ],
   "source": [
    "plt.figure(figsize=(7,4))\n",
    "sns.scatterplot(data=winemag_clean, x=\"price\", y=\"points\", color='tab:blue')"
   ]
  },
  {
   "cell_type": "code",
   "execution_count": 35,
   "id": "b757c7f4-47b7-47b7-8b82-d8fd1f91c583",
   "metadata": {},
   "outputs": [
    {
     "data": {
      "text/plain": [
       "<AxesSubplot:xlabel='points', ylabel='price'>"
      ]
     },
     "execution_count": 35,
     "metadata": {},
     "output_type": "execute_result"
    },
    {
     "data": {
      "image/png": "[encoded data removed]",
      "text/plain": [
       "<Figure size 504x288 with 1 Axes>"
      ]
     },
     "metadata": {
      "needs_background": "light"
     },
     "output_type": "display_data"
    }
   ],
   "source": [
    "plt.figure(figsize=(7,4))\n",
    "sns.barplot(data=winemag_clean, x=\"points\", y=\"price\", color='tab:blue')"
   ]
  },
  {
   "cell_type": "code",
   "execution_count": 36,
   "id": "6b8dfd0c-a61d-410b-b8f3-319998890266",
   "metadata": {},
   "outputs": [
    {
     "name": "stdout",
     "output_type": "stream",
     "text": [
      "Spearman correlation coefficient is: 0.57\n"
     ]
    }
   ],
   "source": [
    "print(f'Spearman correlation coefficient is: {winemag_clean[\"points\"].corr(winemag_clean[\"price\"], method=\"spearman\"):.2f}')"
   ]
  },
  {
   "cell_type": "markdown",
   "id": "08b64357-147d-409d-a97a-a6f0b10fb8b7",
   "metadata": {},
   "source": [
    "### `country`"
   ]
  },
  {
   "cell_type": "markdown",
   "id": "b0f7e524-df3f-4f7f-a22f-132a725b1024",
   "metadata": {
    "tags": []
   },
   "source": [
    "Observations:\n",
    "* Most of the wines in the dataset comes from the United States (50016).\n",
    "* 99.08% of wine in the dataset come from 16 countries.\n",
    "* Some countries such as `China` only have one entry in the dataset where other such as France have thousands.\n",
    "* On average, Germany has the most expensive wine, closely followed by France and Italy. Meanwhile, the cheapest wines are from India, Africa, and East Asia.\n",
    "* The price of wine varies depending on the country/region.\n",
    "* Kruskal-Wallis test indicates an association between `country` and `price`.\n",
    "* Some countries/regions have higher rated wines. England has the highest rated wines followed by India. South America has the lower rated wines.\n",
    "* ANOVA test indicates an association between `country` and `points`.\n",
    "\n",
    "**Conclusion:** Country is associated with the price of wine as well as the wine customer ratings."
   ]
  },
  {
   "cell_type": "code",
   "execution_count": 37,
   "id": "56f2bc74-44a6-4136-864f-20bc4db2dbab",
   "metadata": {},
   "outputs": [
    {
     "data": {
      "text/plain": [
       "0"
      ]
     },
     "execution_count": 37,
     "metadata": {},
     "output_type": "execute_result"
    }
   ],
   "source": [
    "winemag_clean[\"country\"].isnull().sum()"
   ]
  },
  {
   "cell_type": "code",
   "execution_count": 38,
   "id": "b5d5172c-60b0-47ad-abd5-c24a98820d01",
   "metadata": {},
   "outputs": [
    {
     "data": {
      "text/plain": [
       "array(['Portugal', 'US', 'Spain', 'Italy', 'France', 'Germany',\n",
       "       'Argentina', 'Chile', 'Australia', 'Austria', 'South Africa',\n",
       "       'New Zealand', 'Israel', 'Hungary', 'Greece', 'Romania', 'Mexico',\n",
       "       'Canada', 'Turkey', 'Czech Republic', 'Slovenia', 'Luxembourg',\n",
       "       'Croatia', 'Georgia', 'Uruguay', 'England', 'Lebanon', 'Serbia',\n",
       "       'Brazil', 'Moldova', 'Morocco', 'Peru', 'India', 'Bulgaria',\n",
       "       'Cyprus', 'Armenia', 'Switzerland', 'Bosnia and Herzegovina',\n",
       "       'Ukraine', 'Slovakia', 'Macedonia', 'China'], dtype=object)"
      ]
     },
     "execution_count": 38,
     "metadata": {},
     "output_type": "execute_result"
    }
   ],
   "source": [
    "winemag_clean[\"country\"].unique()"
   ]
  },
  {
   "cell_type": "code",
   "execution_count": 39,
   "id": "dfbf6cdb-314b-4f33-bccd-5fe6133cf3f3",
   "metadata": {},
   "outputs": [
    {
     "data": {
      "text/plain": [
       "<AxesSubplot:xlabel='Count', ylabel='country'>"
      ]
     },
     "execution_count": 39,
     "metadata": {},
     "output_type": "execute_result"
    },
    {
     "data": {
      "image/png": "[encoded data removed]",
      "text/plain": [
       "<Figure size 504x756 with 1 Axes>"
      ]
     },
     "metadata": {
      "needs_background": "light"
     },
     "output_type": "display_data"
    }
   ],
   "source": [
    "plt.figure(figsize=(7,10.5))\n",
    "sns.histplot(data=winemag_clean, y=\"country\", color='tab:blue')"
   ]
  },
  {
   "cell_type": "markdown",
   "id": "bf57ca72-cdc7-4765-a42b-24c10cd20304",
   "metadata": {},
   "source": [
    "Countries that produce the most kind of wine"
   ]
  },
  {
   "cell_type": "code",
   "execution_count": 40,
   "id": "7385835c-26ad-457b-ad8b-75c8e19bbefa",
   "metadata": {},
   "outputs": [
    {
     "data": {
      "text/plain": [
       "US           47681\n",
       "France       14694\n",
       "Italy        14067\n",
       "Spain         5732\n",
       "Portugal      4330\n",
       "Chile         4019\n",
       "Argentina     3350\n",
       "Austria       2466\n",
       "Australia     1990\n",
       "Germany       1782\n",
       "Name: country, dtype: int64"
      ]
     },
     "execution_count": 40,
     "metadata": {},
     "output_type": "execute_result"
    }
   ],
   "source": [
    "winemag_clean[\"country\"].value_counts().head(10)"
   ]
  },
  {
   "cell_type": "markdown",
   "id": "4022194b-01da-47d6-855d-a9aae6ab4ff4",
   "metadata": {},
   "source": [
    "Countries that produce the least kind of wine"
   ]
  },
  {
   "cell_type": "code",
   "execution_count": 41,
   "id": "d689255f-3801-45e9-b078-896033e4a4ef",
   "metadata": {},
   "outputs": [
    {
     "data": {
      "text/plain": [
       "Macedonia                 11\n",
       "Cyprus                    10\n",
       "Serbia                     8\n",
       "India                      8\n",
       "Luxembourg                 5\n",
       "Switzerland                4\n",
       "Bosnia and Herzegovina     2\n",
       "Armenia                    2\n",
       "Slovakia                   1\n",
       "China                      1\n",
       "Name: country, dtype: int64"
      ]
     },
     "execution_count": 41,
     "metadata": {},
     "output_type": "execute_result"
    }
   ],
   "source": [
    "winemag_clean[\"country\"].value_counts().tail(10)"
   ]
  },
  {
   "cell_type": "markdown",
   "id": "b3556267-2d69-4c9c-9da1-6bd52a57e291",
   "metadata": {},
   "source": [
    "Some countries have significantly less wines than others. We map each country to a region and combines those with very low counts of wine."
   ]
  },
  {
   "cell_type": "code",
   "execution_count": 42,
   "id": "5ddccf7c-cb96-4b8a-8248-9b9a873a0d6e",
   "metadata": {},
   "outputs": [],
   "source": [
    "winemag_clean[\"country_region\"] = winemag_clean[\"country\"].apply(map_country_to_region)"
   ]
  },
  {
   "cell_type": "code",
   "execution_count": 43,
   "id": "c20500af-8119-4770-83f8-1e76b16c45cb",
   "metadata": {},
   "outputs": [
    {
     "data": {
      "text/plain": [
       "North America    47957\n",
       "Europe           44237\n",
       "South America     7525\n",
       "Oceania           3206\n",
       "Africa            1190\n",
       "Middle East        553\n",
       "South Asia           8\n",
       "East Asia            1\n",
       "Name: country_region, dtype: int64"
      ]
     },
     "execution_count": 43,
     "metadata": {},
     "output_type": "execute_result"
    }
   ],
   "source": [
    "country_region_counts = winemag_clean[\"country_region\"].value_counts()\n",
    "country_region_counts"
   ]
  },
  {
   "cell_type": "code",
   "execution_count": 44,
   "id": "1cae8195-7af1-4dd9-8b14-30082d98f4b3",
   "metadata": {},
   "outputs": [],
   "source": [
    "threshold = winemag_clean.shape[0] * 0.1\n",
    "# Group country regions with low (< 1% of all instances) counts as Others\n",
    "winemag_clean[\"country_region2\"] = winemag_clean.apply(lambda x: (x[\"country_region\"] if country_region_counts[x[\"country_region\"]] >= threshold else f\"Other Regions\"), axis=1)"
   ]
  },
  {
   "cell_type": "code",
   "execution_count": 45,
   "id": "bbc250c9-e0da-4b8a-9598-2c384713d348",
   "metadata": {},
   "outputs": [
    {
     "data": {
      "text/plain": [
       "<AxesSubplot:xlabel='country_region2', ylabel='Count'>"
      ]
     },
     "execution_count": 45,
     "metadata": {},
     "output_type": "execute_result"
    },
    {
     "data": {
      "image/png": "[encoded data removed]",
      "text/plain": [
       "<Figure size 360x288 with 1 Axes>"
      ]
     },
     "metadata": {
      "needs_background": "light"
     },
     "output_type": "display_data"
    }
   ],
   "source": [
    "plt.figure(figsize=(5,4))\n",
    "sns.histplot(data=winemag_clean, x=\"country_region2\", color='tab:blue')"
   ]
  },
  {
   "cell_type": "code",
   "execution_count": 46,
   "id": "6de01c99-d57a-4734-a966-7ad7e008a4c8",
   "metadata": {},
   "outputs": [],
   "source": [
    "# Wine count per countries\n",
    "wine_counts = winemag_clean[\"country\"].value_counts()\n",
    "# Calculate threshold for top 1% countries\n",
    "threshold = winemag_clean.shape[0] * 0.01\n",
    "# Group countries with low (< 1% of all instances) counts as Others\n",
    "winemag_clean[\"country2\"] = winemag_clean.apply(lambda x: (x[\"country\"] if wine_counts[x[\"country\"]] >= threshold else f\"Other {x['country_region']}\"), axis=1)"
   ]
  },
  {
   "cell_type": "code",
   "execution_count": 47,
   "id": "b7062b9f-4b46-4da8-9860-16e141d7f327",
   "metadata": {},
   "outputs": [
    {
     "data": {
      "text/plain": [
       "<AxesSubplot:xlabel='Count', ylabel='country2'>"
      ]
     },
     "execution_count": 47,
     "metadata": {},
     "output_type": "execute_result"
    },
    {
     "data": {
      "image/png": "[encoded data removed]",
      "text/plain": [
       "<Figure size 504x432 with 1 Axes>"
      ]
     },
     "metadata": {
      "needs_background": "light"
     },
     "output_type": "display_data"
    }
   ],
   "source": [
    "plt.figure(figsize=(7,6))\n",
    "sns.histplot(data=winemag_clean, y=\"country2\", color='tab:blue')"
   ]
  },
  {
   "cell_type": "markdown",
   "id": "b4ead6a6-9ca0-407d-876e-2be2db72d59e",
   "metadata": {},
   "source": [
    "#### Relationship with `price`\n",
    "We check the price range for each country"
   ]
  },
  {
   "cell_type": "code",
   "execution_count": 48,
   "id": "801fd547-2710-4542-8aae-c8bdc1503a35",
   "metadata": {},
   "outputs": [
    {
     "data": {
      "text/plain": [
       "<AxesSubplot:xlabel='price', ylabel='country2'>"
      ]
     },
     "execution_count": 48,
     "metadata": {},
     "output_type": "execute_result"
    },
    {
     "data": {
      "image/png": "[encoded data removed]",
      "text/plain": [
       "<Figure size 504x360 with 1 Axes>"
      ]
     },
     "metadata": {
      "needs_background": "light"
     },
     "output_type": "display_data"
    }
   ],
   "source": [
    "plt.figure(figsize=(7,5))\n",
    "sns.barplot(data=winemag_clean, x=\"price\", y=\"country2\", color='tab:blue')"
   ]
  },
  {
   "cell_type": "markdown",
   "id": "eeec73e0-23d0-4c66-8532-d68af4fdfe52",
   "metadata": {},
   "source": [
    "Average wine bottle price per region"
   ]
  },
  {
   "cell_type": "code",
   "execution_count": 49,
   "id": "efa5947c-c28f-4348-bb35-81586b13a78c",
   "metadata": {},
   "outputs": [
    {
     "name": "stdout",
     "output_type": "stream",
     "text": [
      "           country2     price\n",
      "                 US 32.521674\n",
      "              Italy 31.367951\n",
      "Other North America 30.336957\n",
      "            Germany 29.558923\n",
      "  Other Middle East 29.191682\n",
      "            Austria 29.054745\n",
      "             France 27.839732\n",
      "          Australia 26.001010\n",
      "        New Zealand 25.406250\n",
      "Other South America 23.698718\n",
      "       South Africa 22.134648\n",
      "              Spain 22.098573\n",
      "       Other Europe 22.088336\n",
      "           Portugal 21.363282\n",
      "          Argentina 20.527463\n"
     ]
    }
   ],
   "source": [
    "print(winemag_clean[[\"country2\", \"price\"]].groupby(\"country2\", as_index=False).mean().sort_values(by=\"price\", ascending=False).head(15).to_string(index=False))"
   ]
  },
  {
   "cell_type": "code",
   "execution_count": 50,
   "id": "71cc7e0d-7dd0-4290-8262-9e7f289657cb",
   "metadata": {},
   "outputs": [
    {
     "name": "stdout",
     "output_type": "stream",
     "text": [
      "country_region2     price\n",
      "  North America 32.509101\n",
      "         Europe 27.569230\n",
      "  Other Regions 21.692863\n"
     ]
    }
   ],
   "source": [
    "print(winemag_clean[[\"country_region2\", \"price\"]].groupby(\"country_region2\", as_index=False).mean().sort_values(by=\"price\", ascending=False).to_string(index=False))"
   ]
  },
  {
   "cell_type": "code",
   "execution_count": 51,
   "id": "fd57af0b-5fe9-4608-8824-b2c730961477",
   "metadata": {},
   "outputs": [],
   "source": [
    "def variance_analysis(df, catg_col, num_col, method=\"anova\"):\n",
    "    # Perform Kruskal-Wallis test using grouped data\n",
    "    grouped_data = [df[df[catg_col] == country][num_col] for country in df[catg_col].unique()]\n",
    "    \n",
    "    if method == \"kruskal\":\n",
    "        statistic, p_value = kruskal(*grouped_data)\n",
    "        name = \"Kruskal-Wallis\"\n",
    "    elif method == \"anova\":\n",
    "        # Perform ANOVA test\n",
    "        statistic, p_value = f_oneway(*grouped_data)\n",
    "        name = \"ANOVA\"\n",
    "    else:\n",
    "        raise Error(f\"'{method}' not supported.\")\n",
    "    \n",
    "    # Check the p-value for significance\n",
    "    alpha = 0.05  # Set the significance level\n",
    "    if p_value < alpha:\n",
    "        print(f\"{name} test indicates a significant difference among '{catg_col} in terms of '{num_col}'. (f-statistic: {statistic:.2f}, p-value: {p_value:.5f})\")\n",
    "    else:\n",
    "        print(f\"No significant difference among '{catg_col}' in terms of '{num_col}'. (f-statistic: {statistic:.2f}, p-value: {p_value:.5f})\")"
   ]
  },
  {
   "cell_type": "code",
   "execution_count": 52,
   "id": "aeb5a58a-e62b-44eb-9c15-a75c80319ddc",
   "metadata": {},
   "outputs": [
    {
     "name": "stdout",
     "output_type": "stream",
     "text": [
      "Kruskal-Wallis test indicates a significant difference among 'country in terms of 'price'. (f-statistic: 11810.78, p-value: 0.00000)\n",
      "Kruskal-Wallis test indicates a significant difference among 'country2 in terms of 'price'. (f-statistic: 11404.22, p-value: 0.00000)\n",
      "Kruskal-Wallis test indicates a significant difference among 'country_region in terms of 'price'. (f-statistic: 8335.26, p-value: 0.00000)\n",
      "Kruskal-Wallis test indicates a significant difference among 'country_region2 in terms of 'price'. (f-statistic: 7549.16, p-value: 0.00000)\n"
     ]
    }
   ],
   "source": [
    "variance_analysis(winemag_clean, \"country\", \"price\", method=\"kruskal\")\n",
    "variance_analysis(winemag_clean, \"country2\", \"price\", method=\"kruskal\")\n",
    "variance_analysis(winemag_clean, \"country_region\", \"price\", method=\"kruskal\")\n",
    "variance_analysis(winemag_clean, \"country_region2\", \"price\", method=\"kruskal\")"
   ]
  },
  {
   "cell_type": "markdown",
   "id": "8e35fcb0-8b26-47cf-82b3-de5aa30479f4",
   "metadata": {},
   "source": [
    "#### Relationship with `points`"
   ]
  },
  {
   "cell_type": "code",
   "execution_count": 53,
   "id": "3d5cc794-465e-4bc3-8652-511a03d34fa2",
   "metadata": {},
   "outputs": [
    {
     "data": {
      "text/plain": [
       "<AxesSubplot:xlabel='points', ylabel='country2'>"
      ]
     },
     "execution_count": 53,
     "metadata": {},
     "output_type": "execute_result"
    },
    {
     "data": {
      "image/png": "[encoded data removed]",
      "text/plain": [
       "<Figure size 360x360 with 1 Axes>"
      ]
     },
     "metadata": {
      "needs_background": "light"
     },
     "output_type": "display_data"
    }
   ],
   "source": [
    "plt.figure(figsize=(5,5))\n",
    "sns.barplot(data=winemag_clean, x=\"points\", y=\"country2\", color='tab:blue')"
   ]
  },
  {
   "cell_type": "code",
   "execution_count": 54,
   "id": "61a0cf4f-3c85-4ca6-8722-59dec58a32e5",
   "metadata": {},
   "outputs": [
    {
     "name": "stdout",
     "output_type": "stream",
     "text": [
      "ANOVA test indicates a significant difference among 'country in terms of 'points'. (f-statistic: 152.68, p-value: 0.00000)\n",
      "ANOVA test indicates a significant difference among 'country2 in terms of 'points'. (f-statistic: 329.25, p-value: 0.00000)\n",
      "ANOVA test indicates a significant difference among 'country_region in terms of 'points'. (f-statistic: 459.83, p-value: 0.00000)\n",
      "ANOVA test indicates a significant difference among 'country_region2 in terms of 'points'. (f-statistic: 1034.89, p-value: 0.00000)\n"
     ]
    }
   ],
   "source": [
    "variance_analysis(winemag_clean, \"country\", \"points\")\n",
    "variance_analysis(winemag_clean, \"country2\", \"points\")\n",
    "variance_analysis(winemag_clean, \"country_region\", \"points\")\n",
    "variance_analysis(winemag_clean, \"country_region2\", \"points\")"
   ]
  },
  {
   "cell_type": "markdown",
   "id": "44e0394f-8d10-47b0-a26b-db287e7ba385",
   "metadata": {},
   "source": [
    "Countries with highest rated wines"
   ]
  },
  {
   "cell_type": "code",
   "execution_count": 55,
   "id": "6cf05740-6e7f-4371-bc81-a7de1227b6e9",
   "metadata": {},
   "outputs": [
    {
     "name": "stdout",
     "output_type": "stream",
     "text": [
      "           country2    points\n",
      "   Other South Asia 90.250000\n",
      "            Austria 90.123277\n",
      "            Germany 89.583614\n",
      "    Other East Asia 89.000000\n",
      "       Other Africa 88.708333\n",
      "                 US 88.369413\n",
      "  Other Middle East 88.311031\n",
      "              Italy 88.303832\n",
      "             France 88.296107\n",
      "        New Zealand 88.241776\n",
      "Other North America 88.228261\n",
      "          Australia 88.214573\n",
      "           Portugal 88.125173\n",
      "       South Africa 87.688679\n",
      "       Other Europe 87.640652\n"
     ]
    }
   ],
   "source": [
    "print(winemag_clean[[\"country2\", \"points\"]].groupby(\"country2\", as_index=False).mean().sort_values(by=\"points\", ascending=False).head(15).to_string(index=False))"
   ]
  },
  {
   "cell_type": "markdown",
   "id": "54b69cd1-f90b-4561-9894-e93dfbd892c1",
   "metadata": {},
   "source": [
    "Regions with highest rated wines"
   ]
  },
  {
   "cell_type": "code",
   "execution_count": 56,
   "id": "b4bcf0e5-feef-4678-9935-8df466d83e36",
   "metadata": {},
   "outputs": [
    {
     "name": "stdout",
     "output_type": "stream",
     "text": [
      "country_region2    points\n",
      "  North America 88.368601\n",
      "         Europe 88.248457\n",
      "  Other Regions 87.054714\n"
     ]
    }
   ],
   "source": [
    "print(winemag_clean[[\"country_region2\", \"points\"]].groupby(\"country_region2\", as_index=False).mean().sort_values(by=\"points\", ascending=False).head(15).to_string(index=False))"
   ]
  },
  {
   "cell_type": "markdown",
   "id": "d7222508-73f3-4187-b94c-90bafbf9b2d9",
   "metadata": {},
   "source": [
    "Wine from different countries/region have on average the same rating. This would suggest that country/region doesn't have a significant influence on the rating (`points`)."
   ]
  },
  {
   "cell_type": "markdown",
   "id": "f44e5c12-5102-4742-85f9-bcc6dc7230cf",
   "metadata": {},
   "source": [
    "### `title` (`name`/`brand`)"
   ]
  },
  {
   "cell_type": "markdown",
   "id": "1011c158-514f-4add-998e-3beefcc7c527",
   "metadata": {},
   "source": [
    "The name of the winery is included in every `title`. We could use the winery as `brand` name."
   ]
  },
  {
   "cell_type": "code",
   "execution_count": 57,
   "id": "bb19e7a3-7c88-43e2-9a9c-93a12f6cb02e",
   "metadata": {},
   "outputs": [
    {
     "data": {
      "text/plain": [
       "0"
      ]
     },
     "execution_count": 57,
     "metadata": {},
     "output_type": "execute_result"
    }
   ],
   "source": [
    "winemag_clean.apply(lambda x: re.search(re.escape(x[\"winery\"]), x[\"title\"]) is None, axis=1).sum()"
   ]
  },
  {
   "cell_type": "markdown",
   "id": "686933f0-5961-4717-a9e7-8f1dbdf7f640",
   "metadata": {},
   "source": [
    "The wine name is not much needed for this study. It's characteristics are more important."
   ]
  },
  {
   "cell_type": "markdown",
   "id": "2655c857-abb8-47ec-b231-b367e1b9a8b0",
   "metadata": {},
   "source": [
    "### `variety`"
   ]
  },
  {
   "cell_type": "markdown",
   "id": "d1d0ca05-43e1-4155-8157-7e42394bb003",
   "metadata": {},
   "source": [
    "Observations:\n",
    "* There are 692 unique wine varieties.\n",
    "* Soem wine varieties are very rare in the dataset.\n",
    "* 300 wine varieties make up 99% of all varieties in the dataset.\n",
    "* The most common wine variety are Pinot Noir, Chardonnay, Cabernet Sauvignon, and Red Blend.\n",
    "* The US produces the most variety of wine, followed by Italy, France and Spain.\n",
    "* On average, Nebbiolo is the most expensive wine variety, followed by Cabernet Sauvignon, Bordeaux-style Red Blend, and Pinot Noir. Meanwhile, Trajadura is the cheapest variety.\n",
    "* The price of wine varies from a variety to another.\n",
    "* Nebbiolo is the highest rated wine followed by Riesling, Pinot Noir, Syrah, and Rhône-style Red Blend.\n",
    "\n",
    "**Conclusion:** Wine `variety` influences the `price` and can also be associated with `points`."
   ]
  },
  {
   "cell_type": "code",
   "execution_count": 60,
   "id": "6dde8e69-f286-406b-b9cb-e32fe19c6c12",
   "metadata": {},
   "outputs": [
    {
     "data": {
      "text/plain": [
       "686"
      ]
     },
     "execution_count": 60,
     "metadata": {},
     "output_type": "execute_result"
    }
   ],
   "source": [
    "winemag_clean[\"variety\"].unique().shape[0]"
   ]
  },
  {
   "cell_type": "code",
   "execution_count": 61,
   "id": "36e73ebc-c647-4f58-9a6c-d1363f21606b",
   "metadata": {},
   "outputs": [
    {
     "data": {
      "text/plain": [
       "0.9905136754014731"
      ]
     },
     "execution_count": 61,
     "metadata": {},
     "output_type": "execute_result"
    }
   ],
   "source": [
    "winemag_clean[\"variety\"].value_counts().head(300).sum() / winemag_clean.shape[0]"
   ]
  },
  {
   "cell_type": "code",
   "execution_count": 62,
   "id": "9a59f215-1deb-4afc-bcba-fcf670b701ad",
   "metadata": {},
   "outputs": [
    {
     "data": {
      "text/plain": [
       "Pinot Noir                  10937\n",
       "Chardonnay                   9777\n",
       "Cabernet Sauvignon           7341\n",
       "Red Blend                    7292\n",
       "Bordeaux-style Red Blend     4408\n",
       "Sauvignon Blanc              4392\n",
       "Riesling                     4380\n",
       "Syrah                        3581\n",
       "Rosé                         2939\n",
       "Merlot                       2774\n",
       "Zinfandel                    2518\n",
       "Malbec                       2270\n",
       "White Blend                  1971\n",
       "Portuguese Red               1959\n",
       "Sangiovese                   1887\n",
       "Sparkling Blend              1801\n",
       "Nebbiolo                     1650\n",
       "Tempranillo                  1558\n",
       "Pinot Gris                   1247\n",
       "Rhône-style Red Blend        1236\n",
       "Cabernet Franc               1135\n",
       "Grüner Veltliner             1005\n",
       "Pinot Grigio                  934\n",
       "Portuguese White              904\n",
       "Viognier                      890\n",
       "Name: variety, dtype: int64"
      ]
     },
     "execution_count": 62,
     "metadata": {},
     "output_type": "execute_result"
    }
   ],
   "source": [
    "winemag_clean[\"variety\"].value_counts().head(25)"
   ]
  },
  {
   "cell_type": "code",
   "execution_count": 63,
   "id": "c0c03ab1-d3a8-4b89-98d4-18afed4c4226",
   "metadata": {},
   "outputs": [
    {
     "name": "stdout",
     "output_type": "stream",
     "text": [
      "         country  variety\n",
      "39            US      254\n",
      "21         Italy      184\n",
      "14        France      142\n",
      "36         Spain      124\n",
      "30      Portugal       85\n",
      "0      Argentina       66\n",
      "2      Australia       66\n",
      "8          Chile       62\n",
      "3        Austria       54\n",
      "35  South Africa       52\n"
     ]
    }
   ],
   "source": [
    "print(winemag_clean[[\"country\", \"variety\"]].drop_duplicates(subset=[\"country\", \"variety\"]).groupby(\"country\", as_index=False).count().sort_values(by=\"variety\", ascending=False).head(10).to_string())"
   ]
  },
  {
   "cell_type": "markdown",
   "id": "32ebffdb-9e97-48bd-aebf-3fd0897f6e25",
   "metadata": {},
   "source": [
    "Some varieties of wine are very rare in the dataset. We combine them as `Other Varieties`."
   ]
  },
  {
   "cell_type": "code",
   "execution_count": 64,
   "id": "56809818-bab9-4752-b4c8-88f12ee366a3",
   "metadata": {},
   "outputs": [],
   "source": [
    "variety_counts = winemag_clean[\"variety\"].value_counts()\n",
    "threshold = winemag_clean.shape[0] * 0.01"
   ]
  },
  {
   "cell_type": "code",
   "execution_count": 65,
   "id": "e0293736-f553-4583-a1e4-812fc6999a4b",
   "metadata": {},
   "outputs": [],
   "source": [
    "winemag_clean[\"variety2\"] = winemag_clean.apply(lambda x: (x[\"variety\"] if variety_counts[x[\"variety\"]] >= threshold else f\"Other Varieties\"), axis=1)"
   ]
  },
  {
   "cell_type": "code",
   "execution_count": 66,
   "id": "325e6444-abbd-468d-9adb-f5ad866bcd42",
   "metadata": {},
   "outputs": [
    {
     "data": {
      "text/plain": [
       "<AxesSubplot:xlabel='Count', ylabel='variety2'>"
      ]
     },
     "execution_count": 66,
     "metadata": {},
     "output_type": "execute_result"
    },
    {
     "data": {
      "image/png": "[encoded data removed]",
      "text/plain": [
       "<Figure size 504x396 with 1 Axes>"
      ]
     },
     "metadata": {
      "needs_background": "light"
     },
     "output_type": "display_data"
    }
   ],
   "source": [
    "plt.figure(figsize=(7,5.5))\n",
    "sns.histplot(data=winemag_clean, y=\"variety2\", color='tab:blue')"
   ]
  },
  {
   "cell_type": "markdown",
   "id": "42e4ff32-a1cb-4260-8075-9fa21ab9a374",
   "metadata": {},
   "source": [
    "#### Realtionship with `price`"
   ]
  },
  {
   "cell_type": "code",
   "execution_count": 67,
   "id": "d08d753a-1dc8-4118-8517-5ec434720d89",
   "metadata": {},
   "outputs": [
    {
     "data": {
      "text/plain": [
       "<AxesSubplot:xlabel='price', ylabel='variety2'>"
      ]
     },
     "execution_count": 67,
     "metadata": {},
     "output_type": "execute_result"
    },
    {
     "data": {
      "image/png": "[encoded data removed]",
      "text/plain": [
       "<Figure size 504x360 with 1 Axes>"
      ]
     },
     "metadata": {
      "needs_background": "light"
     },
     "output_type": "display_data"
    }
   ],
   "source": [
    "plt.figure(figsize=(7,5))\n",
    "sns.barplot(data=winemag_clean, x=\"price\", y=\"variety2\", color='tab:blue')"
   ]
  },
  {
   "cell_type": "markdown",
   "id": "bc8ed137-fe50-4ec3-86df-16abf8ce3657",
   "metadata": {},
   "source": [
    "#### Relationship wtih `points`"
   ]
  },
  {
   "cell_type": "markdown",
   "id": "c5de467e-0dfd-43be-903c-defac8766ecf",
   "metadata": {},
   "source": [
    "Highest rated wine varieties"
   ]
  },
  {
   "cell_type": "code",
   "execution_count": 68,
   "id": "b2499b7e-56c4-4e19-8633-93f00b88539d",
   "metadata": {},
   "outputs": [
    {
     "data": {
      "text/plain": [
       "<AxesSubplot:xlabel='points', ylabel='variety2'>"
      ]
     },
     "execution_count": 68,
     "metadata": {},
     "output_type": "execute_result"
    },
    {
     "data": {
      "image/png": "[encoded data removed]",
      "text/plain": [
       "<Figure size 360x360 with 1 Axes>"
      ]
     },
     "metadata": {
      "needs_background": "light"
     },
     "output_type": "display_data"
    }
   ],
   "source": [
    "plt.figure(figsize=(5,5))\n",
    "sns.barplot(data=winemag_clean, x=\"points\", y=\"variety2\", color='tab:blue')"
   ]
  },
  {
   "cell_type": "code",
   "execution_count": 69,
   "id": "d1a7dc6e-66bd-4f29-a984-9e67f56d51fe",
   "metadata": {},
   "outputs": [
    {
     "name": "stdout",
     "output_type": "stream",
     "text": [
      "ANOVA test indicates a significant difference among 'variety in terms of 'points'. (f-statistic: 15.71, p-value: 0.00000)\n",
      "ANOVA test indicates a significant difference among 'variety2 in terms of 'points'. (f-statistic: 260.50, p-value: 0.00000)\n"
     ]
    }
   ],
   "source": [
    "variance_analysis(winemag_clean, \"variety\", \"points\")\n",
    "variance_analysis(winemag_clean, \"variety2\", \"points\")"
   ]
  },
  {
   "cell_type": "markdown",
   "id": "e7713eab-d5e2-4990-8c47-47aade85e0a0",
   "metadata": {},
   "source": [
    "### `winery`"
   ]
  },
  {
   "cell_type": "markdown",
   "id": "70dbb1ff-dc1e-440d-8cec-68e5f9f4b155",
   "metadata": {},
   "source": [
    "Observations:\n",
    "* There are 15843 wineries in the dataset\n",
    "* The US has the highest number of wineries (5368), followed by France, Italy, Spain, then Argentina.\n",
    "* On average, some wineries produce higher rated wines than others.\n",
    "* On average, Lynmar (US) wines have the highest ratings, this is followed by Williams Selyem (US), Gary Farrell (US), Testarossa (US), and Louis Latour (France).\n",
    "* On average, certain wineries produce more expensive wines than others. Louis Latour (France) produces significantly more expensive wine than other wineries.\n",
    "\n",
    "**Conclusion:** `winery` is associated with `price` and `points`."
   ]
  },
  {
   "cell_type": "code",
   "execution_count": 70,
   "id": "91d0e886-51ea-4971-afee-9890e892c040",
   "metadata": {},
   "outputs": [
    {
     "data": {
      "text/plain": [
       "15532"
      ]
     },
     "execution_count": 70,
     "metadata": {},
     "output_type": "execute_result"
    }
   ],
   "source": [
    "winemag_clean[\"winery\"].unique().shape[0]"
   ]
  },
  {
   "cell_type": "code",
   "execution_count": 71,
   "id": "9fbb1ea2-e6d9-48a6-bacd-c02c4a44081e",
   "metadata": {},
   "outputs": [
    {
     "data": {
      "text/plain": [
       "Wines & Winemakers       199\n",
       "Testarossa               196\n",
       "DFJ Vinhos               194\n",
       "Williams Selyem          182\n",
       "Chateau Ste. Michelle    170\n",
       "Columbia Crest           145\n",
       "Concha y Toro            140\n",
       "Gary Farrell             118\n",
       "Kendall-Jackson          114\n",
       "Siduri                   113\n",
       "Georges Duboeuf          112\n",
       "Trapiche                 106\n",
       "Lynmar                   103\n",
       "Undurraga                103\n",
       "Santa Ema                101\n",
       "Robert Mondavi            99\n",
       "Maryhill                  97\n",
       "Foxen                     96\n",
       "Montes                    94\n",
       "Kenwood                   94\n",
       "Name: winery, dtype: int64"
      ]
     },
     "execution_count": 71,
     "metadata": {},
     "output_type": "execute_result"
    }
   ],
   "source": [
    "winemag_clean[\"winery\"].value_counts().head(20)"
   ]
  },
  {
   "cell_type": "markdown",
   "id": "e1626857-f8da-4c21-9390-4cb6b877df34",
   "metadata": {},
   "source": [
    "Which country has the most wineries?"
   ]
  },
  {
   "cell_type": "code",
   "execution_count": 72,
   "id": "3eadc7b8-0e92-40ff-8ea1-bf0e4636e48e",
   "metadata": {},
   "outputs": [
    {
     "data": {
      "text/plain": [
       "<AxesSubplot:xlabel='num_wineries', ylabel='country2'>"
      ]
     },
     "execution_count": 72,
     "metadata": {},
     "output_type": "execute_result"
    },
    {
     "data": {
      "image/png": "[encoded data removed]",
      "text/plain": [
       "<Figure size 504x360 with 1 Axes>"
      ]
     },
     "metadata": {
      "needs_background": "light"
     },
     "output_type": "display_data"
    }
   ],
   "source": [
    "plt.figure(figsize=(7,5))\n",
    "sns.barplot(\n",
    "    data=winemag_clean[[\"country2\", \"winery\"]].drop_duplicates(subset=[\"country2\", \"winery\"]).rename(columns={\"winery\": \"num_wineries\"}).groupby(\"country2\", as_index=False).count(), \n",
    "    y=\"country2\", x=\"num_wineries\", color='tab:blue'\n",
    ")"
   ]
  },
  {
   "cell_type": "code",
   "execution_count": 73,
   "id": "e01cceda-b6fb-4786-aae6-9705ae2fc031",
   "metadata": {},
   "outputs": [],
   "source": [
    "winery_counts = winemag_clean[\"winery\"].value_counts()"
   ]
  },
  {
   "cell_type": "code",
   "execution_count": 74,
   "id": "489a6106-7b05-4879-b57d-dc4b27de97b8",
   "metadata": {},
   "outputs": [
    {
     "name": "stdout",
     "output_type": "stream",
     "text": [
      "99.97 wineries produce less than 1% of all the different wine bottles\n",
      "0.10 wineries produce 100 different wine bottles or more\n",
      "1.15 wineries produce between 50 and 100 different wine bottles\n",
      "17.63 wineries produce between 10 and 50 different wine bottles\n",
      "81.12 wineries produce less than 10 different wine bottles\n"
     ]
    }
   ],
   "source": [
    "print(f'{winery_counts[(winery_counts < winery_counts.shape[0]*0.01)].shape[0] / winery_counts.shape[0] * 100:.2f} wineries produce less than 1% of all the different wine bottles')\n",
    "print(f'{winery_counts[(winery_counts >=100)].shape[0] / winery_counts.shape[0] * 100:.2f} wineries produce 100 different wine bottles or more')\n",
    "print(f'{winery_counts[(winery_counts >=50) & (winery_counts < 100)].shape[0] / winery_counts.shape[0] * 100:.2f} wineries produce between 50 and 100 different wine bottles')\n",
    "print(f'{winery_counts[(winery_counts >=10) & (winery_counts < 50)].shape[0] / winery_counts.shape[0] * 100:.2f} wineries produce between 10 and 50 different wine bottles')\n",
    "print(f'{winery_counts[(winery_counts < 10)].shape[0] / winery_counts.shape[0] * 100:.2f} wineries produce less than 10 different wine bottles')"
   ]
  },
  {
   "cell_type": "markdown",
   "id": "83a7431e-d8a7-4558-8cef-ad377de0ed08",
   "metadata": {},
   "source": [
    "Most of the wineries in the dataset produce less than 10 unique wine bottles. Only 6 wineries produce at least 1% of all the different wine bottles. In order to group the wineries with a low count of unique wine bottles, we would have to raise the threshold. Since most wineries produces less than 10 unique wine bottles, we can set the threshold to 10."
   ]
  },
  {
   "cell_type": "code",
   "execution_count": 75,
   "id": "cf51a62c-40e2-4738-ad10-2c7b28267843",
   "metadata": {},
   "outputs": [],
   "source": [
    "winemag_clean[\"winery2\"] = winemag_clean.apply(lambda x: (x[\"winery\"] if winery_counts[x[\"winery\"]] >= 10 else f\"Other Wineries\"), axis=1)\n",
    "# Winery3 is only for visualization purpose\n",
    "winemag_clean[\"winery3\"] = winemag_clean.apply(lambda x: (x[\"winery\"] if winery_counts[x[\"winery\"]] >= 100 else f\"Other Wineries\"), axis=1)"
   ]
  },
  {
   "cell_type": "markdown",
   "id": "91048aa9-f3b1-42f3-98b4-9989a7a2f2d5",
   "metadata": {
    "tags": []
   },
   "source": [
    "#### Relationship with `points`\n",
    "Which winery produces the highest rated wines"
   ]
  },
  {
   "cell_type": "code",
   "execution_count": 76,
   "id": "c63647ac-8b45-4aff-abd4-3a0f56210565",
   "metadata": {},
   "outputs": [
    {
     "data": {
      "text/plain": [
       "<AxesSubplot:xlabel='points', ylabel='winery3'>"
      ]
     },
     "execution_count": 76,
     "metadata": {},
     "output_type": "execute_result"
    },
    {
     "data": {
      "image/png": "[encoded data removed]",
      "text/plain": [
       "<Figure size 360x360 with 1 Axes>"
      ]
     },
     "metadata": {
      "needs_background": "light"
     },
     "output_type": "display_data"
    }
   ],
   "source": [
    "plt.figure(figsize=(5,5))\n",
    "sns.barplot(data=winemag_clean, x=\"points\", y=\"winery3\", color='tab:blue')"
   ]
  },
  {
   "cell_type": "code",
   "execution_count": null,
   "id": "3b21412a-e144-4c80-8a12-89f09ca493f2",
   "metadata": {},
   "outputs": [],
   "source": [
    "variance_analysis(winemag_clean, \"winery\", \"points\")\n",
    "variance_analysis(winemag_clean, \"winery2\", \"points\")"
   ]
  },
  {
   "cell_type": "markdown",
   "id": "66bbf524-54bf-42dc-9ca3-f35b6e9da480",
   "metadata": {},
   "source": [
    "#### Relationship with `price`"
   ]
  },
  {
   "cell_type": "code",
   "execution_count": null,
   "id": "604abde2-3c77-4927-bea3-1ec323165555",
   "metadata": {},
   "outputs": [],
   "source": [
    "plt.figure(figsize=(7,5))\n",
    "sns.barplot(data=winemag_clean, x=\"price\", y=\"winery3\", color='tab:blue')"
   ]
  },
  {
   "cell_type": "code",
   "execution_count": null,
   "id": "cd415b87-8b32-4a9b-931a-9df9dbf23278",
   "metadata": {},
   "outputs": [],
   "source": [
    "variance_analysis(winemag_clean, \"winery\", \"price\")\n",
    "variance_analysis(winemag_clean, \"winery2\", \"price\")"
   ]
  },
  {
   "cell_type": "markdown",
   "id": "961ec88b-8692-4019-b1f3-9e0934fe08a6",
   "metadata": {},
   "source": [
    "## Data Preprocessing"
   ]
  },
  {
   "cell_type": "code",
   "execution_count": null,
   "id": "b210b1e6-a27d-40dc-a65e-948fe52b695c",
   "metadata": {},
   "outputs": [],
   "source": [
    "def preprocess_data(data):\n",
    "    # Select relevant columns\n",
    "    winemag_columns = [\"id\", \"country\", \"points\", \"price\", \"variety\", \"winery\", \"title\"]\n",
    "    winemag_clean = data[winemag_columns].copy()\n",
    "    \n",
    "    # Remove entries with no price or country\n",
    "    winemag_clean = winemag_clean[(~winemag_clean[\"country\"].isnull()) & (~winemag_clean[\"price\"].isnull())]\n",
    "    winemag_clean = winemag_clean[~winemag_clean[\"variety\"].isnull()]\n",
    "    \n",
    "    # Handle duplicates\n",
    "    winemag_clean = winemag_clean.drop(\"id\", axis=1).drop_duplicates()\n",
    "    winemag_clean = remove_duplicated_titles(winemag_clean)\n",
    "    \n",
    "    # Categorize price\n",
    "    winemag_clean[\"price_group\"] = winemag_clean[\"price\"].apply(categorize_wine_price)\n",
    "    \n",
    "    # Add country_region\n",
    "    \n",
    "    winemag_clean[\"country_region\"] = winemag_clean[\"country\"].apply(map_country_to_region)\n",
    "    # Wine count per countries\n",
    "    wine_counts = winemag_clean[\"country\"].value_counts()\n",
    "    \n",
    "    # Calculate threshold for top 1% countries\n",
    "    threshold = winemag_clean.shape[0] * 0.01\n",
    "    \n",
    "    # Group countries with low (< 1% of all instances) counts as Others\n",
    "    winemag_clean[\"country2\"] = winemag_clean.apply(lambda x: (x[\"country\"] if wine_counts[x[\"country\"]] >= threshold else f\"Other {x['country_region']}\"), axis=1)\n",
    "    \n",
    "    # Group varieties with low counts\n",
    "    variety_counts = winemag_clean[\"variety\"].value_counts()\n",
    "    threshold = winemag_clean.shape[0] * 0.01\n",
    "    winemag_clean[\"variety2\"] = winemag_clean.apply(lambda x: (x[\"variety\"] if variety_counts[x[\"variety\"]] >= threshold else f\"Other Varieties\"), axis=1)\n",
    "    \n",
    "    # Group wineries with low counts\n",
    "    winery_counts = winemag_clean[\"winery\"].value_counts()\n",
    "    winemag_clean[\"winery2\"] = winemag_clean.apply(lambda x: (x[\"winery\"] if winery_counts[x[\"winery\"]] >= 10 else f\"Other Wineries\"), axis=1)\n",
    "    \n",
    "    return winemag_clean"
   ]
  },
  {
   "cell_type": "code",
   "execution_count": null,
   "id": "e5851f12-d6a1-4538-8f93-18722afb8848",
   "metadata": {},
   "outputs": [],
   "source": []
  }
 ],
 "metadata": {
  "kernelspec": {
   "display_name": "dl-env",
   "language": "python",
   "name": "dl-env"
  },
  "language_info": {
   "codemirror_mode": {
    "name": "ipython",
    "version": 3
   },
   "file_extension": ".py",
   "mimetype": "text/x-python",
   "name": "python",
   "nbconvert_exporter": "python",
   "pygments_lexer": "ipython3",
   "version": "3.9.12"
  }
 },
 "nbformat": 4,
 "nbformat_minor": 5
}
