{
 "cells": [
  {
   "cell_type": "code",
   "execution_count": null,
   "id": "217004db-8ca3-4821-966f-43812ee0f7d1",
   "metadata": {},
   "outputs": [],
   "source": [
    "import pandas as pd\n",
    "import numpy as np\n",
    "import seaborn as sns\n",
    "import matplotlib.pyplot as plt\n",
    "\n",
    "# Import custom libraries\n",
    "import utils"
   ]
  },
  {
   "cell_type": "markdown",
   "id": "569c101c-864e-4796-b740-5e69dc13e44b",
   "metadata": {},
   "source": [
    "In this notebook we build a model to forecast `US Wine Consumption (Mgal)`."
   ]
  },
  {
   "cell_type": "markdown",
   "id": "ca304ed5-6959-4ab0-baae-37f366200f02",
   "metadata": {},
   "source": [
    "### Metrics\n",
    "| Model | MAE | RSE | R-squared |\n",
    "|:-------|-----|-----|-----------|\n",
    "|Linear Regression (baseline)|24.582|805.432|0.680|\n",
    "|Holt-Winters|23.656|726.824|0.718|\n",
    "|ARIMA|**20.914**|**590.345**|**0.770**|\n",
    "|DLM|24.234|774.672|0.695|"
   ]
  },
  {
   "cell_type": "markdown",
   "id": "6008a595-88f5-4cd2-b9ac-d4bf44d1cb53",
   "metadata": {},
   "source": [
    "## Load Data"
   ]
  },
  {
   "cell_type": "code",
   "execution_count": null,
   "id": "75d3c2d5-c036-460f-ae30-0818489e754b",
   "metadata": {},
   "outputs": [],
   "source": [
    "forecast_data = pd.read_csv(\"forecast_data.csv\")\n",
    "forecast_data.shape"
   ]
  },
  {
   "cell_type": "code",
   "execution_count": null,
   "id": "c4afcf85-a5f1-4298-804e-94e1f8fe7a7b",
   "metadata": {},
   "outputs": [],
   "source": [
    "columns = [\"Year\", \"US Wine Production (Mgal)\", \"Median Income\", \"Num Seniors\", \"Num w/ small children\", \"US Wine Sales Volume (Mgal)\", \"US Wine Consumption (Mgal)\"]"
   ]
  },
  {
   "cell_type": "code",
   "execution_count": null,
   "id": "3dcf5f62-dfb7-4047-9eeb-680999377a2d",
   "metadata": {},
   "outputs": [],
   "source": [
    "forecast_data = forecast_data[columns].copy()"
   ]
  },
  {
   "cell_type": "code",
   "execution_count": null,
   "id": "05c2acea-c968-40ba-b730-76ec30bb9516",
   "metadata": {},
   "outputs": [],
   "source": [
    "forecast_data.info()"
   ]
  },
  {
   "cell_type": "markdown",
   "id": "069b9651-efe2-4ba8-9f7c-cdc839317ef2",
   "metadata": {},
   "source": [
    "Augment `US Wine Sales Volume (Mgal)` data"
   ]
  },
  {
   "cell_type": "code",
   "execution_count": null,
   "id": "010aca39-6286-4f14-b0ec-c3474aae350e",
   "metadata": {},
   "outputs": [],
   "source": [
    "consumption_data = pd.read_csv(\"dataset/wine_consumption.tsv\", delimiter=\"\\t\")\n",
    "consumption_data = consumption_data.rename(columns={\"Total Wine (Mgal)\": \"US Wine Consumption (Mgal)\"})\n",
    "consumption_data.shape"
   ]
  },
  {
   "cell_type": "code",
   "execution_count": null,
   "id": "dfd2bdaa-35e3-48bf-b033-dcff90a26281",
   "metadata": {},
   "outputs": [],
   "source": [
    "consumption_data[\"Year\"].min()"
   ]
  },
  {
   "cell_type": "code",
   "execution_count": null,
   "id": "d4f66902-2cb5-447e-86ba-c6060c608ba6",
   "metadata": {},
   "outputs": [],
   "source": [
    "consumption_data.info()"
   ]
  },
  {
   "cell_type": "code",
   "execution_count": null,
   "id": "757bf9d1-2b3d-459c-9d7b-f4723902d914",
   "metadata": {},
   "outputs": [],
   "source": [
    "consumption_data = consumption_data[[\"Year\", \"US Wine Consumption (Mgal)\"]]"
   ]
  },
  {
   "cell_type": "code",
   "execution_count": null,
   "id": "d4b1c1fc-d86a-4016-b191-d0b66cb79176",
   "metadata": {},
   "outputs": [],
   "source": [
    "data = pd.merge(forecast_data, consumption_data, on=[\"Year\", \"US Wine Consumption (Mgal)\"], how=\"right\").sort_values(by=\"Year\")\n",
    "data.shape"
   ]
  },
  {
   "cell_type": "code",
   "execution_count": null,
   "id": "3870576f-5ee8-40bb-a13b-9b0e6a93df56",
   "metadata": {},
   "outputs": [],
   "source": [
    "data[\"Year\"] = pd.to_datetime(data[\"Year\"], format='%Y')\n",
    "data = data.set_index(\"Year\")\n",
    "data.index.freq = 'AS-JAN' \n",
    "data = data.sort_index()\n",
    "data.shape"
   ]
  },
  {
   "cell_type": "markdown",
   "id": "a2c9c121-d1e8-4473-80da-961841eda787",
   "metadata": {},
   "source": [
    "## Visualization, Stationarity and Correlations"
   ]
  },
  {
   "cell_type": "code",
   "execution_count": null,
   "id": "0a69e333-7c35-42d8-89a4-70bfe12a9f40",
   "metadata": {},
   "outputs": [],
   "source": [
    "plt.figure(figsize=(10,5))\n",
    "sns.lineplot(data=data, x=data.index, y=\"US Wine Consumption (Mgal)\")"
   ]
  },
  {
   "cell_type": "markdown",
   "id": "57f9c0b2-5f02-4ba1-8fdc-2785d08895e0",
   "metadata": {},
   "source": [
    "We observe that the data could be split into 3 periods of rougly 30-40 years."
   ]
  },
  {
   "cell_type": "code",
   "execution_count": null,
   "id": "35989b8a-4d83-40df-9f92-5d582added4d",
   "metadata": {},
   "outputs": [],
   "source": [
    "utils.adf_test(data[\"US Wine Consumption (Mgal)\"])"
   ]
  },
  {
   "cell_type": "code",
   "execution_count": null,
   "id": "d21291c2-4fbd-4442-9aaa-24edc05e9fbb",
   "metadata": {},
   "outputs": [],
   "source": [
    "utils.kpss_test(data[\"US Wine Consumption (Mgal)\"])"
   ]
  },
  {
   "cell_type": "markdown",
   "id": "306d3250-26cb-46bd-b59b-b9fa597e95c7",
   "metadata": {},
   "source": [
    "Overall, when going back to 1934 to 2022, the data is not stationary."
   ]
  },
  {
   "cell_type": "code",
   "execution_count": null,
   "id": "21f482af-5ce3-4fe2-9561-9cb76718e188",
   "metadata": {},
   "outputs": [],
   "source": [
    "utils.visualize_correlation(utils.calculate_correlation(data), figsize=(5,4))"
   ]
  },
  {
   "cell_type": "markdown",
   "id": "a6c43642-3557-4669-9162-478ad9805e9b",
   "metadata": {},
   "source": [
    "## Baseline"
   ]
  },
  {
   "cell_type": "code",
   "execution_count": null,
   "id": "b9197011-65fe-4820-a257-734b8d05a975",
   "metadata": {},
   "outputs": [],
   "source": [
    "from sklearn.linear_model import Ridge, LinearRegression"
   ]
  },
  {
   "cell_type": "code",
   "execution_count": null,
   "id": "117f2cd8-6860-44d0-98ca-35c9de974005",
   "metadata": {},
   "outputs": [],
   "source": [
    "baseline_data = data.iloc[-30:-1][\"US Wine Consumption (Mgal)\"].copy()"
   ]
  },
  {
   "cell_type": "code",
   "execution_count": null,
   "id": "69a4e0e7-f941-476b-8e9e-fdfe24dc54c0",
   "metadata": {},
   "outputs": [],
   "source": [
    "baseline_data = baseline_data.reset_index()\n",
    "baseline_data[\"Year\"] = baseline_data[\"Year\"].dt.year"
   ]
  },
  {
   "cell_type": "code",
   "execution_count": null,
   "id": "829d81bc-8468-4019-959f-5279ff3bcf33",
   "metadata": {},
   "outputs": [],
   "source": [
    "baseline_train, baseline_test = utils.split_dataset(baseline_data, test_size=0.2)\n",
    "baseline_train.shape, baseline_test.shape"
   ]
  },
  {
   "cell_type": "code",
   "execution_count": null,
   "id": "642d10ed-6d53-4eae-842b-75711dbd2992",
   "metadata": {},
   "outputs": [],
   "source": [
    "ridge_reg = Ridge()\n",
    "ridge_reg.fit(baseline_train.values[:,:-1], baseline_train.values[:,-1])\n",
    "\n",
    "# Calculate metrics\n",
    "baseline_preds = ridge_reg.predict(baseline_test.values[:,:-1])\n",
    "baseline_mae, baseline_mse, baseline_r2 = utils.calculate_metrics(baseline_preds, baseline_test.values[:,-1])\n",
    "print(f\"MAE: {baseline_mae:.5f}, MSE: {baseline_mse:.5f}, R-squared: {baseline_r2:.5f}\")"
   ]
  },
  {
   "cell_type": "code",
   "execution_count": null,
   "id": "3cab4664-baed-4a57-a459-93f2a0760e5d",
   "metadata": {},
   "outputs": [],
   "source": [
    "sns.lineplot(data=baseline_data, x=\"Year\", y=\"US Wine Consumption (Mgal)\", label=\"Actual\")\n",
    "sns.lineplot(x=baseline_test[\"Year\"], y=baseline_preds, label=\"Predicted\")"
   ]
  },
  {
   "cell_type": "markdown",
   "id": "25e4f862-4a7a-4394-a4ba-8a4f6cc776b3",
   "metadata": {},
   "source": [
    "Cross-Validation"
   ]
  },
  {
   "cell_type": "code",
   "execution_count": null,
   "id": "7cbf8cdc-6390-47b3-9578-337aa4d51dd3",
   "metadata": {},
   "outputs": [],
   "source": [
    "utils.stats_models_cv(model_name=\"lr\", data=baseline_data, n_folds=3)"
   ]
  },
  {
   "cell_type": "markdown",
   "id": "33c00319-d5eb-45e4-b64a-c005769bbc6a",
   "metadata": {
    "tags": []
   },
   "source": [
    "## Statistical Models"
   ]
  },
  {
   "cell_type": "code",
   "execution_count": null,
   "id": "0fef1765-7ede-4e0c-9753-6486ddc93b3d",
   "metadata": {},
   "outputs": [],
   "source": [
    "from statsmodels.tsa.holtwinters import ExponentialSmoothing\n",
    "from statsmodels.tsa.arima.model import ARIMA\n",
    "from pydlm import dlm, dynamic, trend"
   ]
  },
  {
   "cell_type": "code",
   "execution_count": null,
   "id": "018481db-c6a1-463d-82a3-f8561e755423",
   "metadata": {},
   "outputs": [],
   "source": [
    "target = [\"US Wine Consumption (Mgal)\"]"
   ]
  },
  {
   "cell_type": "markdown",
   "id": "7682e817-88fc-4517-835d-3fbbbedc10f9",
   "metadata": {},
   "source": [
    "### Holt-Winters Exponential Smoothing"
   ]
  },
  {
   "cell_type": "code",
   "execution_count": null,
   "id": "49be3bbb-f2ee-4a36-a5a6-168ffa35eba8",
   "metadata": {},
   "outputs": [],
   "source": [
    "hw_data = data.iloc[:-1][target].copy()"
   ]
  },
  {
   "cell_type": "code",
   "execution_count": null,
   "id": "0ca676ae-6d25-4cf0-a5ee-b20f50de4f10",
   "metadata": {},
   "outputs": [],
   "source": [
    "hw_train, hw_test = utils.split_dataset(hw_data, test_size=0.2)\n",
    "hw_train.shape, hw_test.shape"
   ]
  },
  {
   "cell_type": "code",
   "execution_count": null,
   "id": "3a2c32aa-d6c5-4444-aff2-a7fc5d0098d8",
   "metadata": {},
   "outputs": [],
   "source": [
    "# Fit model\n",
    "hw_model = ExponentialSmoothing(hw_train, trend='add', seasonal='add', seasonal_periods=10)\n",
    "hw_model = hw_model.fit()\n",
    "\n",
    "# Calculate metrics\n",
    "forecast_hw = hw_model.forecast(steps=len(hw_test))\n",
    "hw_mae, hw_mse, hw_r2 = utils.calculate_metrics(forecast_hw, hw_test)\n",
    "print(f\"MAE: {hw_mae:.5f}, MSE: {hw_mse:.5f}, R-squared: {hw_r2:.5f}\")"
   ]
  },
  {
   "cell_type": "code",
   "execution_count": null,
   "id": "8132f129-4cdc-439c-99fe-263496bbd58d",
   "metadata": {},
   "outputs": [],
   "source": [
    "sns.lineplot(data=hw_data, x=hw_data.index, y=target[0], label=\"Actual\")\n",
    "sns.lineplot(x=forecast_hw.index, y=forecast_hw.values, label=\"Predicted\")"
   ]
  },
  {
   "cell_type": "markdown",
   "id": "9ca0a9d7-ff9d-4955-8e93-e07f1836545b",
   "metadata": {},
   "source": [
    "Cross-Validation"
   ]
  },
  {
   "cell_type": "code",
   "execution_count": null,
   "id": "18583f46-3089-42b7-897d-2b4aa0126a32",
   "metadata": {},
   "outputs": [],
   "source": [
    "hw_params = {\"seasonal_periods\": \"half\"}\n",
    "utils.stats_models_cv(model_name=\"holt-winters\", data=hw_data.iloc[-29:], params=hw_params, n_folds=3)"
   ]
  },
  {
   "cell_type": "markdown",
   "id": "9d224276-dd0d-47c3-b546-bb51571802e8",
   "metadata": {},
   "source": [
    "### ARIMA"
   ]
  },
  {
   "cell_type": "code",
   "execution_count": null,
   "id": "4c91c0ce-ce7f-4b28-9280-da33d64cc5bb",
   "metadata": {},
   "outputs": [],
   "source": [
    "arima_data = data.iloc[:-1][target].copy()"
   ]
  },
  {
   "cell_type": "code",
   "execution_count": null,
   "id": "46bbb150-49ea-48fc-a4ba-2309d0b6e8c4",
   "metadata": {},
   "outputs": [],
   "source": [
    "arima_train, arima_test = utils.split_dataset(arima_data, test_size=0.2)\n",
    "arima_train.shape, hw_test.shape"
   ]
  },
  {
   "cell_type": "code",
   "execution_count": null,
   "id": "d1d88d5c-c7e8-4b3b-9222-047326ee0fb3",
   "metadata": {},
   "outputs": [],
   "source": [
    "# Train model\n",
    "p, d, q = 1, 2, 1\n",
    "arima_model = ARIMA(arima_train, order=(p, d, q))\n",
    "arima_model = arima_model.fit()\n",
    "\n",
    "# Calculate metrics\n",
    "forecast_arima = arima_model.forecast(steps=len(arima_test))\n",
    "arima_mae, arima_mse, arima_r2 = utils.calculate_metrics(forecast_arima, arima_test)\n",
    "print(f\"MAE: {arima_mae:.5f}, MSE: {arima_mse:.5f}, R-squared: {arima_r2:.5f}\")"
   ]
  },
  {
   "cell_type": "code",
   "execution_count": null,
   "id": "ef2126ed-7ed7-4b5a-a8b1-583aa3178398",
   "metadata": {},
   "outputs": [],
   "source": [
    "sns.lineplot(data=arima_data, x=arima_data.index, y=target[0], label=\"Actual\")\n",
    "sns.lineplot(x=forecast_arima.index, y=forecast_arima.values, label=\"Predicted\")"
   ]
  },
  {
   "cell_type": "markdown",
   "id": "b848ffdd-ea68-42c6-872b-009fe0b90e73",
   "metadata": {},
   "source": [
    "Cross-Validation"
   ]
  },
  {
   "cell_type": "code",
   "execution_count": null,
   "id": "12c9a817-15c4-4383-9be6-ba8e9f9f5a0c",
   "metadata": {},
   "outputs": [],
   "source": [
    "arima_params = {\"p\": 1, \"d\": 2, \"q\": 1}\n",
    "utils.stats_models_cv(model_name=\"arima\", data=arima_data.iloc[-29:], params=arima_params, n_folds=3)"
   ]
  },
  {
   "cell_type": "markdown",
   "id": "46b1cd0e-6c9b-4efa-b29c-7082c986ef1b",
   "metadata": {},
   "source": [
    "### Dynamic Linear Models (DLM)"
   ]
  },
  {
   "cell_type": "markdown",
   "id": "4afe40b6-9e83-41d2-9002-bf4253dbedb5",
   "metadata": {},
   "source": [
    "#### Without additional features\n",
    "We assume a linearity of the data and we only use the target variable."
   ]
  },
  {
   "cell_type": "code",
   "execution_count": null,
   "id": "6f322133-5d0d-45ad-baf5-6124aeee568c",
   "metadata": {},
   "outputs": [],
   "source": [
    "dlm_data = data.iloc[:-1][target].copy()#iloc[-30:-1][target].copy()"
   ]
  },
  {
   "cell_type": "code",
   "execution_count": null,
   "id": "1c10f4d5-c03a-431c-be32-e8f5ae709173",
   "metadata": {},
   "outputs": [],
   "source": [
    "dlm_train, dlm_test = utils.split_dataset(dlm_data, test_size=0.2)\n",
    "dlm_train.shape, dlm_test.shape"
   ]
  },
  {
   "cell_type": "code",
   "execution_count": null,
   "id": "9177dd02-a505-4bc3-995c-847d28aff170",
   "metadata": {},
   "outputs": [],
   "source": [
    "# Fit model on train data\n",
    "dlm_model = dlm(dlm_train.values)\n",
    "# Given the data is linear, we add a linear trend component\n",
    "dlm_model = dlm_model + trend(degree=1, discount=0.4)\n",
    "dlm_model.fit()"
   ]
  },
  {
   "cell_type": "code",
   "execution_count": null,
   "id": "52345150-7e9f-4c98-833e-f4a0f95a717a",
   "metadata": {},
   "outputs": [],
   "source": [
    "# Forecast the next steps\n",
    "forecast_dlm = dlm_model.predictN(N=len(dlm_test))[0]"
   ]
  },
  {
   "cell_type": "code",
   "execution_count": null,
   "id": "d409ed1f-7139-409a-bd23-599e44facfc0",
   "metadata": {},
   "outputs": [],
   "source": [
    "dlm_mae, dlm_mse, dlm_r2 = utils.calculate_metrics(forecast_dlm, dlm_test)\n",
    "print(f\"MAE: {dlm_mae:.5f}, MSE: {dlm_mse:.5f}, R-squared: {dlm_r2:.5f}\")"
   ]
  },
  {
   "cell_type": "code",
   "execution_count": null,
   "id": "ef83d2c5-2dfd-4e9a-8b7b-6174d47d4477",
   "metadata": {},
   "outputs": [],
   "source": [
    "sns.lineplot(data=dlm_data, x=dlm_data.index, y=target[0], label=\"Actual\")\n",
    "sns.lineplot(x=dlm_test.index, y=forecast_dlm, label=\"Predicted\")"
   ]
  },
  {
   "cell_type": "markdown",
   "id": "7af3bc63-1089-41db-a194-b87acbede819",
   "metadata": {},
   "source": [
    "Cross-validation"
   ]
  },
  {
   "cell_type": "code",
   "execution_count": null,
   "id": "e6b99060-e4f6-431e-ad66-08d87f663d66",
   "metadata": {},
   "outputs": [],
   "source": [
    "dlm_params = {\"discount\": 0.95, \"features_data\": \"linear\"}\n",
    "utils.stats_models_cv(model_name=\"dlm\", data=dlm_data.iloc[-30:], params=dlm_params, n_folds=3)"
   ]
  },
  {
   "cell_type": "markdown",
   "id": "a09a7491-2336-4513-bd85-7ebdd22626d7",
   "metadata": {},
   "source": [
    "## Use Stationary Data"
   ]
  },
  {
   "cell_type": "code",
   "execution_count": null,
   "id": "01ee8b12-3008-433d-a160-4200c01aa69f",
   "metadata": {},
   "outputs": [],
   "source": [
    "def make_stationary_column(df, column_name, lag=1):\n",
    "    df_stationary = df.copy()\n",
    "    df_stationary[column_name] = df[column_name].diff(lag)\n",
    "    df_stationary = df_stationary.dropna(subset=column_name)\n",
    "    return df_stationary[column_name]"
   ]
  },
  {
   "cell_type": "code",
   "execution_count": null,
   "id": "bb706a78-56e8-49cf-8e72-1803abf72f79",
   "metadata": {},
   "outputs": [],
   "source": [
    "def back_transform_column(original_value, differenced_data, column_name, lag=1):\n",
    "    back_transformed_column = pd.Series(index=differenced_data.index)\n",
    "    back_transformed_column.iloc[0] = original_value\n",
    "    \n",
    "    for i in range(1, len(differenced_data)):\n",
    "        back_transformed_column.iloc[i] = differenced_data[column_name].iloc[i-1] + back_transformed_column.iloc[i-1]\n",
    "    \n",
    "    return back_transformed_column"
   ]
  },
  {
   "cell_type": "code",
   "execution_count": null,
   "id": "faabbfcb-0f55-436a-a218-6dccf671415e",
   "metadata": {},
   "outputs": [],
   "source": [
    "stationary_data = data.copy()\n",
    "stationary_data.shape"
   ]
  },
  {
   "cell_type": "code",
   "execution_count": null,
   "id": "bd506af3-8a01-4dd0-a561-d0e01550f052",
   "metadata": {},
   "outputs": [],
   "source": [
    "stationary_data[\"US Wine Consumption (Mgal)\"] = utils.make_stationary(df=stationary_data, column_name=\"US Wine Consumption (Mgal)\", lag=1)\n",
    "stationary_data = stationary_data.iloc[1:]\n",
    "stationary_data.shape"
   ]
  },
  {
   "cell_type": "code",
   "execution_count": null,
   "id": "d158004c-a9bf-4cbf-a417-61683b09ae2f",
   "metadata": {},
   "outputs": [],
   "source": [
    "utils.adf_test(stationary_data[\"US Wine Consumption (Mgal)\"], verbose=1)"
   ]
  },
  {
   "cell_type": "code",
   "execution_count": null,
   "id": "b5e65178-58fc-4a81-9db2-64921cb6055b",
   "metadata": {},
   "outputs": [],
   "source": [
    "plt.figure(figsize=(10,5))\n",
    "sns.lineplot(data=stationary_data, x=stationary_data.index, y=\"US Wine Consumption (Mgal)\")"
   ]
  },
  {
   "cell_type": "code",
   "execution_count": null,
   "id": "1fef949e-f0c5-43b5-a4b8-88416cf9ff6c",
   "metadata": {},
   "outputs": [],
   "source": [
    "hw_params = {\"seasonal_periods\": \"half\"}\n",
    "utils.stats_models_cv(model_name=\"holt-winters\", data=hw_data.iloc[:], stationary_column=\"US Wine Consumption (Mgal)\", params=hw_params, n_folds=3)"
   ]
  },
  {
   "cell_type": "code",
   "execution_count": null,
   "id": "2deb60ed-9bed-465d-aa93-e7521938f76d",
   "metadata": {},
   "outputs": [],
   "source": [
    "arima_params = {\"p\": 1, \"d\": 2, \"q\": 1}\n",
    "utils.stats_models_cv(model_name=\"arima\", data=data.iloc[:-1][target], stationary_column=\"US Wine Consumption (Mgal)\", params=arima_params, n_folds=3)"
   ]
  },
  {
   "cell_type": "code",
   "execution_count": null,
   "id": "3028bf3f-61e5-4582-9c7f-5e38e5929363",
   "metadata": {},
   "outputs": [],
   "source": [
    "dlm_params = {\"discount\": 0.95, \"features_data\": \"linear\"}\n",
    "utils.stats_models_cv(model_name=\"dlm\", data=data.iloc[:-1][target], stationary_column=\"US Wine Consumption (Mgal)\", params=dlm_params, n_folds=3)"
   ]
  },
  {
   "cell_type": "code",
   "execution_count": null,
   "id": "951e9792-8248-49fd-828a-db1e552b7641",
   "metadata": {},
   "outputs": [],
   "source": []
  }
 ],
 "metadata": {
  "kernelspec": {
   "display_name": "dl-env",
   "language": "python",
   "name": "dl-env"
  },
  "language_info": {
   "codemirror_mode": {
    "name": "ipython",
    "version": 3
   },
   "file_extension": ".py",
   "mimetype": "text/x-python",
   "name": "python",
   "nbconvert_exporter": "python",
   "pygments_lexer": "ipython3",
   "version": "3.9.12"
  }
 },
 "nbformat": 4,
 "nbformat_minor": 5
}
