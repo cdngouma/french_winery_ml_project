{
 "cells": [
  {
   "cell_type": "code",
   "execution_count": 1,
   "id": "6d37a57a-722c-4a92-b4f2-7e1c2f5ae274",
   "metadata": {},
   "outputs": [],
   "source": [
    "import pandas as pd\n",
    "import numpy as np\n",
    "import seaborn as sns\n",
    "import matplotlib.pyplot as plt"
   ]
  },
  {
   "cell_type": "markdown",
   "id": "569c101c-864e-4796-b740-5e69dc13e44b",
   "metadata": {},
   "source": [
    "In this notebook we build a model to forecast `US Wine Sales Volume (Mgal)`."
   ]
  },
  {
   "cell_type": "markdown",
   "id": "ca304ed5-6959-4ab0-baae-37f366200f02",
   "metadata": {
    "tags": []
   },
   "source": [
    "### Metrics\n",
    "| Model | MAE | RSE | R-squared |\n",
    "|:-------|-----|-----|-----------|\n",
    "|Linear Regression (baseline)|16.515|469.123|0.694|\n",
    "|Holt-Winters|**11.163**|**172.015**|**0.871**|\n",
    "|Holt's Linear|14.935|366.339|0.743|\n",
    "|ARIMA|15.933|445.255|0.613|\n",
    "|DLM|17.464|494.047|0.695|"
   ]
  },
  {
   "cell_type": "markdown",
   "id": "5890a275-2ec6-48df-b104-c8d5d3e1877f",
   "metadata": {
    "tags": []
   },
   "source": [
    "## Utils Functions"
   ]
  },
  {
   "cell_type": "code",
   "execution_count": 2,
   "id": "33c5b52c-47bb-453d-ae9a-636a7f763b82",
   "metadata": {},
   "outputs": [],
   "source": [
    "from sklearn.model_selection import TimeSeriesSplit\n",
    "from sklearn.model_selection import train_test_split\n",
    "from sklearn.model_selection import GridSearchCV\n",
    "from sklearn.metrics import make_scorer, mean_absolute_error, mean_squared_error, r2_score\n",
    "from sklearn.preprocessing import StandardScaler"
   ]
  },
  {
   "cell_type": "code",
   "execution_count": 3,
   "id": "d0f0735e-4350-4bea-a904-e853217c4972",
   "metadata": {},
   "outputs": [],
   "source": [
    "def split_dataset(data, test_size=0.2):\n",
    "    data_sorted = data.sort_index()\n",
    "    \n",
    "    # Split the dataset\n",
    "    train_data, test_data = train_test_split(data_sorted, test_size=test_size, shuffle=False)\n",
    "    \n",
    "    return train_data, test_data"
   ]
  },
  {
   "cell_type": "code",
   "execution_count": 4,
   "id": "d7295a2e-e448-4ba8-b429-7cdf3912efe5",
   "metadata": {},
   "outputs": [],
   "source": [
    "def linear_interpolation(df, columns, window=None):\n",
    "    df_ = df.copy()\n",
    "    for col in columns:\n",
    "        values_ = df_[col].values\n",
    "        # Find the indices of known values\n",
    "        known_indices = np.where(~np.isnan(values_))[0]\n",
    "    \n",
    "        # Interpolate between the first and last known values\n",
    "        first_known_index = known_indices[0]\n",
    "        if window:\n",
    "            last_known_index = known_indices[min(first_known_index+window, len(known_indices)-1)]\n",
    "        else:\n",
    "            last_known_index = known_indices[-1]\n",
    "    \n",
    "        # Number of missing values to interpolate\n",
    "        num_missing = last_known_index - first_known_index\n",
    "    \n",
    "        # Calculate the step between values\n",
    "        step = (values_[last_known_index] - values_[first_known_index]) / (num_missing + 1)\n",
    "    \n",
    "        # Perform linear interpolation\n",
    "        interpolated_values = []\n",
    "        for i in range(0, first_known_index):\n",
    "            interpolated_value = values_[first_known_index] - step * (first_known_index - i)\n",
    "            interpolated_values.append(interpolated_value)\n",
    "        \n",
    "        values_[:first_known_index] = interpolated_values\n",
    "        \n",
    "        df_[col] = values_\n",
    "    \n",
    "    return df_"
   ]
  },
  {
   "cell_type": "code",
   "execution_count": 5,
   "id": "17aa1805-9823-4165-be99-d0e7940f4f6b",
   "metadata": {},
   "outputs": [],
   "source": [
    "def stats_models_cv(model_name, data, params={}, n_folds=5):\n",
    "    tscv = TimeSeriesSplit(n_splits=n_folds)\n",
    "    # Initialize list of metrics\n",
    "    mae_scores = []\n",
    "    mse_scores = []\n",
    "    r2_scores = []\n",
    "    \n",
    "    min_train_size = len(data)\n",
    "    max_train_size = 0\n",
    "    min_test_size = len(data)\n",
    "    max_test_size = 0\n",
    "    \n",
    "    for train_idx, test_idx in tscv.split(data):\n",
    "        # Split data into train and test sets\n",
    "        train_data, test_data = data.iloc[train_idx], data.iloc[test_idx]\n",
    "        \n",
    "        # Record train and test sizes for stats\n",
    "        min_train_size = min(min_train_size, len(train_data))\n",
    "        max_train_size = max(max_train_size, len(train_data))\n",
    "        min_test_size = min(min_test_size, len(test_data))\n",
    "        max_test_size = max(max_test_size, len(test_data))\n",
    "        \n",
    "        # Initialize model\n",
    "        if model_name == \"holt-winters\":\n",
    "            # Select a value for seasonal periods\n",
    "            default = max(2, len(train_data)//2)\n",
    "            seasonal_periods = params.get(\"seasonal_periods\", default)\n",
    "            if seasonal_periods is None or seasonal_periods == \"half\":\n",
    "                seasonal_periods = default\n",
    "            elif seasonal_periods == \"third\":\n",
    "                seasonal_periods = max(2, len(train_data)//3)\n",
    "            \n",
    "            # Initialize model\n",
    "            model = ExponentialSmoothing(train_data, trend='add', seasonal='add', seasonal_periods=seasonal_periods)\n",
    "            # Fit model on training data\n",
    "            model_fit = model.fit()\n",
    "            # Forecast next steps\n",
    "            forecast = model_fit.forecast(steps=len(test_data))\n",
    "            actual = test_data\n",
    "        elif model_name == \"holt-linear\":\n",
    "            smoothing_level = params.get(\"smoothing_level\", 0.9)\n",
    "            smoothing_slope = params.get(\"smoothing_slope\", 0.2)\n",
    "            # Fit model\n",
    "            model = Holt(train_data)\n",
    "            model = model.fit(smoothing_level=smoothing_level, smoothing_slope=smoothing_slope)\n",
    "            # Forecast next steps\n",
    "            forecast = model.forecast(steps=len(test_data))\n",
    "            actual = test_data\n",
    "        elif model_name == \"arima\":\n",
    "            p, d, q = params.get(\"p\", 1), params.get(\"d\", 1), params.get(\"q\", 1)\n",
    "            model = ARIMA(train_data, order=(p, d, q))\n",
    "            # Fit model on training data\n",
    "            model_fit = model.fit()\n",
    "            # Forecast next steps\n",
    "            forecast = model_fit.forecast(steps=len(test_data))\n",
    "            actual = test_data\n",
    "        elif model_name == \"arimax\":\n",
    "            scale = params.get(\"scale\", False)\n",
    "            p, d, q = params.get(\"p\", 1), params.get(\"d\", 1), params.get(\"q\", 1)\n",
    "            X_train, y_train = train_data.iloc[:,:-1], train_data.iloc[:,-1]\n",
    "            X_test, y_test = test_data.iloc[:,:-1], test_data.iloc[:,-1]\n",
    "            if scale:\n",
    "                scaler = StandardScaler()\n",
    "                X_train = scaler.fit_transform(X_train)\n",
    "                X_test = scaler.transform(X_test)\n",
    "            model = SARIMAX(y_train, exog=X_train, order=(p, d, q))\n",
    "            model = model.fit()\n",
    "            # Calculate metrics\n",
    "            forecast = model.forecast(steps=len(test_data), exog=X_test)\n",
    "            actual = y_test\n",
    "        elif model_name == \"dlm\":\n",
    "            discount = params.get(\"discount\", 0.5)\n",
    "            features_data = params.get(\"features_data\", \"linear\")\n",
    "            if features_data == \"linear\":\n",
    "                components = trend(degree=1, discount=discount)\n",
    "            else:\n",
    "                components = dynamic(features=features_data, discount=discount)\n",
    "            # Fit model on train data\n",
    "            dlm_model = dlm(train_data.values)\n",
    "            dlm_model = dlm_model + components\n",
    "            dlm_model.fit()\n",
    "            # Forecast the next steps\n",
    "            forecast = dlm_model.predictN(N=len(test_data))[0]\n",
    "            actual = test_data\n",
    "        elif model_name == \"lr\":\n",
    "            lr_model = Ridge()\n",
    "            lr_model.fit(train_data.values[:,:-1], train_data.values[:,-1])\n",
    "            # Predictions\n",
    "            forecast = lr_model.predict(test_data.values[:,:-1])\n",
    "            actual = test_data.values[:,-1]\n",
    "        else:\n",
    "            raise Exception(f\"Model '{model_name}' is not supported\")\n",
    "        \n",
    "        # Calculate metrics\n",
    "        mae = mean_absolute_error(actual, forecast)\n",
    "        mse = mean_squared_error(actual, forecast)\n",
    "        r2 = r2_score(actual, forecast)\n",
    "        \n",
    "        # Append scores to lists\n",
    "        mae_scores.append(mae)\n",
    "        mse_scores.append(mse)\n",
    "        r2_scores.append(r2)\n",
    "    \n",
    "    # Print average metrics across all folds\n",
    "    print(f\"Mean MAE: {np.mean(mae_scores)}\")\n",
    "    print(f\"Mean MSE: {np.mean(mse_scores)}\")\n",
    "    print(f\"Mean R-squared: {np.mean(r2_scores)}\")\n",
    "    print(f\"Train sizes: min={min_train_size}, max={max_train_size}\")\n",
    "    print(f\"Test sizes: min={min_test_size}, max={max_test_size}\")"
   ]
  },
  {
   "cell_type": "code",
   "execution_count": 6,
   "id": "f566cc53-f416-4c6f-87de-0b8b8ae4a940",
   "metadata": {},
   "outputs": [],
   "source": [
    "def calculate_correlation(dataframe):\n",
    "    # Calculate correlation matrix for the given DataFrame\n",
    "    correlation_matrix = dataframe.corr()\n",
    "    return correlation_matrix"
   ]
  },
  {
   "cell_type": "code",
   "execution_count": 7,
   "id": "e0b5604f-7d24-42f1-82fd-3c5fbb0915c1",
   "metadata": {},
   "outputs": [],
   "source": [
    "def visualize_correlation(correlation_matrix, figsize=(8,6)):\n",
    "    # Visualize the correlation matrix using a heatmap\n",
    "    plt.figure(figsize=figsize)\n",
    "    sns.heatmap(correlation_matrix, annot=True, cmap='Blues', fmt='.2f', linewidths=.5)\n",
    "    plt.title('Correlation Between Variables')\n",
    "    #plt.xlabel('Time Series')\n",
    "    #plt.ylabel('Time Series')\n",
    "    plt.show()"
   ]
  },
  {
   "cell_type": "markdown",
   "id": "6008a595-88f5-4cd2-b9ac-d4bf44d1cb53",
   "metadata": {},
   "source": [
    "## Load Data"
   ]
  },
  {
   "cell_type": "code",
   "execution_count": 8,
   "id": "75d3c2d5-c036-460f-ae30-0818489e754b",
   "metadata": {},
   "outputs": [
    {
     "data": {
      "text/plain": [
       "(24, 22)"
      ]
     },
     "execution_count": 8,
     "metadata": {},
     "output_type": "execute_result"
    }
   ],
   "source": [
    "data = pd.read_csv(\"dataset/census_and_market_data.csv\")\n",
    "data.shape"
   ]
  },
  {
   "cell_type": "code",
   "execution_count": 9,
   "id": "c4afcf85-a5f1-4298-804e-94e1f8fe7a7b",
   "metadata": {},
   "outputs": [],
   "source": [
    "columns = [\"Year\", \"US Wine Production (Mgal)\", \"Median Income\", \"Num Seniors\", \"Num w/ small children\", \"US Wine Sales Volume (Mgal)\"]"
   ]
  },
  {
   "cell_type": "code",
   "execution_count": 10,
   "id": "3870576f-5ee8-40bb-a13b-9b0e6a93df56",
   "metadata": {},
   "outputs": [
    {
     "data": {
      "text/plain": [
       "(24, 5)"
      ]
     },
     "execution_count": 10,
     "metadata": {},
     "output_type": "execute_result"
    }
   ],
   "source": [
    "data = data[columns].copy()\n",
    "data[\"Year\"] = pd.to_datetime(data[\"Year\"], format='%Y')\n",
    "data = data.set_index(\"Year\")\n",
    "data.index.freq = 'AS-JAN' \n",
    "data = data.sort_index()\n",
    "data.shape"
   ]
  },
  {
   "cell_type": "markdown",
   "id": "09b38047-8582-449d-90a5-3c57a08bb4f6",
   "metadata": {},
   "source": [
    "Fill missing values in other variables besides `US Wine Production (Mgal)`"
   ]
  },
  {
   "cell_type": "code",
   "execution_count": 14,
   "id": "5c1a2c38-191b-45bf-b53f-f562f86cb9e0",
   "metadata": {},
   "outputs": [],
   "source": [
    "data = linear_interpolation(data, columns=[\"US Wine Production (Mgal)\"])"
   ]
  },
  {
   "cell_type": "markdown",
   "id": "7fb1ef75-eef1-422a-8838-e4a7db68e67b",
   "metadata": {},
   "source": [
    "Target value is missing the last year"
   ]
  },
  {
   "cell_type": "code",
   "execution_count": 15,
   "id": "aa2ffaf0-59ad-4909-be21-62386abf637b",
   "metadata": {},
   "outputs": [],
   "source": [
    "data = data[:-1]"
   ]
  },
  {
   "cell_type": "code",
   "execution_count": 19,
   "id": "b792b884-9b3f-4ae4-b43d-450185d68a46",
   "metadata": {},
   "outputs": [
    {
     "data": {
      "text/plain": [
       "US Wine Production (Mgal)      0\n",
       "Median Income                  0\n",
       "Num Seniors                    4\n",
       "Num w/ small children          8\n",
       "US Wine Sales Volume (Mgal)    0\n",
       "dtype: int64"
      ]
     },
     "execution_count": 19,
     "metadata": {},
     "output_type": "execute_result"
    }
   ],
   "source": [
    "data.isnull().sum()"
   ]
  },
  {
   "cell_type": "code",
   "execution_count": 20,
   "id": "a25387b0-69b8-422d-a152-68998f0fe5f5",
   "metadata": {},
   "outputs": [],
   "source": [
    "def calculate_metrics(predicted, true):\n",
    "    # Calculate Mean Absolute Error (MAE)\n",
    "    mae = mean_absolute_error(true, predicted)\n",
    "\n",
    "    # Calculate Mean Squared Error (MSE)\n",
    "    mse = mean_squared_error(true, predicted)\n",
    "    \n",
    "    # Calculate R-squared\n",
    "    r_squared = r2_score(true, predicted)\n",
    "    \n",
    "    return mae, mse, r_squared"
   ]
  },
  {
   "cell_type": "markdown",
   "id": "a2c9c121-d1e8-4473-80da-961841eda787",
   "metadata": {},
   "source": [
    "## Visualization and Correlations"
   ]
  },
  {
   "cell_type": "code",
   "execution_count": 21,
   "id": "0a69e333-7c35-42d8-89a4-70bfe12a9f40",
   "metadata": {},
   "outputs": [
    {
     "data": {
      "text/plain": [
       "<AxesSubplot:xlabel='Year', ylabel='US Wine Sales Volume (Mgal)'>"
      ]
     },
     "execution_count": 21,
     "metadata": {},
     "output_type": "execute_result"
    },
    {
     "data": {
      "image/png": "[encoded data removed]",
      "text/plain": [
       "<Figure size 432x288 with 1 Axes>"
      ]
     },
     "metadata": {
      "needs_background": "light"
     },
     "output_type": "display_data"
    }
   ],
   "source": [
    "sns.lineplot(data=data, x=data.index, y=\"US Wine Sales Volume (Mgal)\")"
   ]
  },
  {
   "cell_type": "code",
   "execution_count": 22,
   "id": "21f482af-5ce3-4fe2-9561-9cb76718e188",
   "metadata": {},
   "outputs": [
    {
     "data": {
      "image/png": "[encoded data removed]",
      "text/plain": [
       "<Figure size 360x252 with 2 Axes>"
      ]
     },
     "metadata": {
      "needs_background": "light"
     },
     "output_type": "display_data"
    }
   ],
   "source": [
    "visualize_correlation(calculate_correlation(data), figsize=(5,3.5))"
   ]
  },
  {
   "cell_type": "markdown",
   "id": "a6c43642-3557-4669-9162-478ad9805e9b",
   "metadata": {},
   "source": [
    "## Baseline"
   ]
  },
  {
   "cell_type": "code",
   "execution_count": 23,
   "id": "b9197011-65fe-4820-a257-734b8d05a975",
   "metadata": {},
   "outputs": [],
   "source": [
    "from sklearn.linear_model import Ridge, LinearRegression"
   ]
  },
  {
   "cell_type": "code",
   "execution_count": 24,
   "id": "117f2cd8-6860-44d0-98ca-35c9de974005",
   "metadata": {},
   "outputs": [],
   "source": [
    "baseline_data = data[\"US Wine Sales Volume (Mgal)\"].copy()"
   ]
  },
  {
   "cell_type": "code",
   "execution_count": 25,
   "id": "69a4e0e7-f941-476b-8e9e-fdfe24dc54c0",
   "metadata": {},
   "outputs": [],
   "source": [
    "baseline_data = baseline_data.reset_index()\n",
    "baseline_data[\"Year\"] = baseline_data[\"Year\"].dt.year"
   ]
  },
  {
   "cell_type": "code",
   "execution_count": 26,
   "id": "829d81bc-8468-4019-959f-5279ff3bcf33",
   "metadata": {},
   "outputs": [
    {
     "data": {
      "text/plain": [
       "((18, 2), (5, 2))"
      ]
     },
     "execution_count": 26,
     "metadata": {},
     "output_type": "execute_result"
    }
   ],
   "source": [
    "baseline_train, baseline_test = split_dataset(baseline_data, test_size=0.2)\n",
    "baseline_train.shape, baseline_test.shape"
   ]
  },
  {
   "cell_type": "code",
   "execution_count": 27,
   "id": "642d10ed-6d53-4eae-842b-75711dbd2992",
   "metadata": {},
   "outputs": [
    {
     "name": "stdout",
     "output_type": "stream",
     "text": [
      "MAE: 27.91816, MSE: 1165.06431, R-squared: 0.44033\n"
     ]
    }
   ],
   "source": [
    "ridge_reg = Ridge()\n",
    "ridge_reg.fit(baseline_train.values[:,:-1], baseline_train.values[:,-1])\n",
    "\n",
    "# Calculate metrics\n",
    "baseline_preds = ridge_reg.predict(baseline_test.values[:,:-1])\n",
    "baseline_mae, baseline_mse, baseline_r2 = calculate_metrics(baseline_preds, baseline_test.values[:,-1])\n",
    "print(f\"MAE: {baseline_mae:.5f}, MSE: {baseline_mse:.5f}, R-squared: {baseline_r2:.5f}\")"
   ]
  },
  {
   "cell_type": "code",
   "execution_count": 28,
   "id": "3cab4664-baed-4a57-a459-93f2a0760e5d",
   "metadata": {},
   "outputs": [
    {
     "data": {
      "text/plain": [
       "<AxesSubplot:xlabel='Year', ylabel='US Wine Sales Volume (Mgal)'>"
      ]
     },
     "execution_count": 28,
     "metadata": {},
     "output_type": "execute_result"
    },
    {
     "data": {
      "image/png": "[encoded data removed]",
      "text/plain": [
       "<Figure size 432x288 with 1 Axes>"
      ]
     },
     "metadata": {
      "needs_background": "light"
     },
     "output_type": "display_data"
    }
   ],
   "source": [
    "sns.lineplot(data=baseline_data, x=\"Year\", y=\"US Wine Sales Volume (Mgal)\", label=\"Actual\")\n",
    "sns.lineplot(x=baseline_test[\"Year\"], y=baseline_preds, label=\"Predicted\")"
   ]
  },
  {
   "cell_type": "markdown",
   "id": "25e4f862-4a7a-4394-a4ba-8a4f6cc776b3",
   "metadata": {},
   "source": [
    "Cross-Validation"
   ]
  },
  {
   "cell_type": "code",
   "execution_count": 29,
   "id": "7cbf8cdc-6390-47b3-9578-337aa4d51dd3",
   "metadata": {},
   "outputs": [
    {
     "name": "stdout",
     "output_type": "stream",
     "text": [
      "Mean MAE: 16.515248260259767\n",
      "Mean MSE: 496.1227357782782\n",
      "Mean R-squared: 0.6943057474732764\n",
      "Train sizes: min=8, max=18\n",
      "Test sizes: min=5, max=5\n"
     ]
    }
   ],
   "source": [
    "stats_models_cv(model_name=\"lr\", data=baseline_data, n_folds=3)"
   ]
  },
  {
   "cell_type": "markdown",
   "id": "33c00319-d5eb-45e4-b64a-c005769bbc6a",
   "metadata": {
    "tags": []
   },
   "source": [
    "## Statistical Models"
   ]
  },
  {
   "cell_type": "code",
   "execution_count": 30,
   "id": "0fef1765-7ede-4e0c-9753-6486ddc93b3d",
   "metadata": {},
   "outputs": [],
   "source": [
    "from statsmodels.tsa.holtwinters import ExponentialSmoothing\n",
    "from statsmodels.tsa.holtwinters import Holt\n",
    "from statsmodels.tsa.arima.model import ARIMA\n",
    "from statsmodels.tsa.statespace.sarimax import SARIMAX\n",
    "from pydlm import dlm, dynamic, trend"
   ]
  },
  {
   "cell_type": "code",
   "execution_count": 31,
   "id": "018481db-c6a1-463d-82a3-f8561e755423",
   "metadata": {},
   "outputs": [],
   "source": [
    "target = [\"US Wine Sales Volume (Mgal)\"]"
   ]
  },
  {
   "cell_type": "markdown",
   "id": "7682e817-88fc-4517-835d-3fbbbedc10f9",
   "metadata": {},
   "source": [
    "### Holt-Winters Exponential Smoothing"
   ]
  },
  {
   "cell_type": "code",
   "execution_count": 32,
   "id": "49be3bbb-f2ee-4a36-a5a6-168ffa35eba8",
   "metadata": {},
   "outputs": [],
   "source": [
    "hw_data = data[target].copy()"
   ]
  },
  {
   "cell_type": "code",
   "execution_count": 33,
   "id": "0ca676ae-6d25-4cf0-a5ee-b20f50de4f10",
   "metadata": {},
   "outputs": [
    {
     "data": {
      "text/plain": [
       "((18, 1), (5, 1))"
      ]
     },
     "execution_count": 33,
     "metadata": {},
     "output_type": "execute_result"
    }
   ],
   "source": [
    "hw_train, hw_test = split_dataset(hw_data, test_size=0.2)\n",
    "hw_train.shape, hw_test.shape"
   ]
  },
  {
   "cell_type": "code",
   "execution_count": 34,
   "id": "3a2c32aa-d6c5-4444-aff2-a7fc5d0098d8",
   "metadata": {},
   "outputs": [
    {
     "name": "stdout",
     "output_type": "stream",
     "text": [
      "MAE: 14.12264, MSE: 215.69145, R-squared: 0.89639\n"
     ]
    }
   ],
   "source": [
    "# Fit model\n",
    "hw_model = ExponentialSmoothing(hw_train, trend='add', seasonal='add', seasonal_periods=9)\n",
    "hw_model = hw_model.fit()\n",
    "\n",
    "# Calculate metrics\n",
    "forecast_hw = hw_model.forecast(steps=len(hw_test))\n",
    "hw_mae, hw_mse, hw_r2 = calculate_metrics(forecast_hw, hw_test)\n",
    "print(f\"MAE: {hw_mae:.5f}, MSE: {hw_mse:.5f}, R-squared: {hw_r2:.5f}\")"
   ]
  },
  {
   "cell_type": "code",
   "execution_count": 35,
   "id": "8132f129-4cdc-439c-99fe-263496bbd58d",
   "metadata": {},
   "outputs": [
    {
     "data": {
      "text/plain": [
       "<AxesSubplot:xlabel='Year', ylabel='US Wine Sales Volume (Mgal)'>"
      ]
     },
     "execution_count": 35,
     "metadata": {},
     "output_type": "execute_result"
    },
    {
     "data": {
      "image/png": "[encoded data removed]",
      "text/plain": [
       "<Figure size 432x288 with 1 Axes>"
      ]
     },
     "metadata": {
      "needs_background": "light"
     },
     "output_type": "display_data"
    }
   ],
   "source": [
    "sns.lineplot(data=hw_data, x=data.index, y=target[0], label=\"Actual\")\n",
    "sns.lineplot(x=forecast_hw.index, y=forecast_hw.values, label=\"Predicted\")"
   ]
  },
  {
   "cell_type": "markdown",
   "id": "9ca0a9d7-ff9d-4955-8e93-e07f1836545b",
   "metadata": {},
   "source": [
    "Cross-Validation"
   ]
  },
  {
   "cell_type": "code",
   "execution_count": 36,
   "id": "18583f46-3089-42b7-897d-2b4aa0126a32",
   "metadata": {},
   "outputs": [
    {
     "name": "stdout",
     "output_type": "stream",
     "text": [
      "Mean MAE: 11.16387595034427\n",
      "Mean MSE: 172.01472055466238\n",
      "Mean R-squared: 0.872851916916131\n",
      "Train sizes: min=8, max=18\n",
      "Test sizes: min=5, max=5\n"
     ]
    }
   ],
   "source": [
    "hw_params = {\"seasonal_periods\": \"half\"}\n",
    "stats_models_cv(model_name=\"holt-winters\", data=hw_data, params=hw_params, n_folds=3)"
   ]
  },
  {
   "cell_type": "markdown",
   "id": "a69e3485-abab-491f-bb99-7a63643ab051",
   "metadata": {},
   "source": [
    "### Holt's Linear Trend"
   ]
  },
  {
   "cell_type": "code",
   "execution_count": 37,
   "id": "afcf9581-5bf1-45ca-8f22-d066d7c8cad0",
   "metadata": {},
   "outputs": [
    {
     "name": "stdout",
     "output_type": "stream",
     "text": [
      "MAE: 21.11138, MSE: 727.65931, R-squared: 0.65045\n"
     ]
    },
    {
     "name": "stderr",
     "output_type": "stream",
     "text": [
      "C:\\Users\\ngoum\\AppData\\Local\\Temp\\ipykernel_41304\\573365988.py:3: FutureWarning: the 'smoothing_slope'' keyword is deprecated, use 'smoothing_trend' instead.\n",
      "  hw_linear_model = hw_linear_model.fit(smoothing_level=0.5, smoothing_slope=0.2)\n",
      "C:\\Users\\ngoum\\anaconda3\\envs\\dl-env\\lib\\site-packages\\pandas\\util\\_decorators.py:211: EstimationWarning: Model has no free parameters to estimate. Set optimized=False to suppress this warning\n",
      "  return func(*args, **kwargs)\n"
     ]
    }
   ],
   "source": [
    "# Fit model\n",
    "hw_linear_model = Holt(hw_train)\n",
    "hw_linear_model = hw_linear_model.fit(smoothing_level=0.5, smoothing_slope=0.2)\n",
    "\n",
    "# Calculate metrics\n",
    "forecast_hw_linear = hw_linear_model.forecast(steps=len(hw_test))\n",
    "hwl_mae, hwl_mse, hwl_r2 = calculate_metrics(forecast_hw_linear, hw_test)\n",
    "print(f\"MAE: {hwl_mae:.5f}, MSE: {hwl_mse:.5f}, R-squared: {hwl_r2:.5f}\")"
   ]
  },
  {
   "cell_type": "code",
   "execution_count": 38,
   "id": "fdb2b6b9-163e-4615-9f18-666fc4a74638",
   "metadata": {},
   "outputs": [
    {
     "data": {
      "text/plain": [
       "<AxesSubplot:xlabel='Year', ylabel='US Wine Sales Volume (Mgal)'>"
      ]
     },
     "execution_count": 38,
     "metadata": {},
     "output_type": "execute_result"
    },
    {
     "data": {
      "image/png": "[encoded data removed]",
      "text/plain": [
       "<Figure size 432x288 with 1 Axes>"
      ]
     },
     "metadata": {
      "needs_background": "light"
     },
     "output_type": "display_data"
    }
   ],
   "source": [
    "sns.lineplot(data=hw_data, x=data.index, y=target[0], label=\"Actual\")\n",
    "sns.lineplot(x=forecast_hw_linear.index, y=forecast_hw_linear.values, label=\"Predicted\")"
   ]
  },
  {
   "cell_type": "markdown",
   "id": "81f711e9-f729-42b6-bb7a-1e2e027938a0",
   "metadata": {},
   "source": [
    "Cross-Validation"
   ]
  },
  {
   "cell_type": "code",
   "execution_count": 39,
   "id": "b2d8422b-a334-4e38-8cd6-5aeb5ec73f8d",
   "metadata": {},
   "outputs": [
    {
     "name": "stdout",
     "output_type": "stream",
     "text": [
      "Mean MAE: 14.935489724470537\n",
      "Mean MSE: 366.33958773837713\n",
      "Mean R-squared: 0.7430842056128922\n",
      "Train sizes: min=8, max=18\n",
      "Test sizes: min=5, max=5\n"
     ]
    },
    {
     "name": "stderr",
     "output_type": "stream",
     "text": [
      "C:\\Users\\ngoum\\AppData\\Local\\Temp\\ipykernel_41304\\286945043.py:45: FutureWarning: the 'smoothing_slope'' keyword is deprecated, use 'smoothing_trend' instead.\n",
      "  model = model.fit(smoothing_level=smoothing_level, smoothing_slope=smoothing_slope)\n",
      "C:\\Users\\ngoum\\anaconda3\\envs\\dl-env\\lib\\site-packages\\pandas\\util\\_decorators.py:211: EstimationWarning: Model has no free parameters to estimate. Set optimized=False to suppress this warning\n",
      "  return func(*args, **kwargs)\n",
      "C:\\Users\\ngoum\\AppData\\Local\\Temp\\ipykernel_41304\\286945043.py:45: FutureWarning: the 'smoothing_slope'' keyword is deprecated, use 'smoothing_trend' instead.\n",
      "  model = model.fit(smoothing_level=smoothing_level, smoothing_slope=smoothing_slope)\n",
      "C:\\Users\\ngoum\\anaconda3\\envs\\dl-env\\lib\\site-packages\\pandas\\util\\_decorators.py:211: EstimationWarning: Model has no free parameters to estimate. Set optimized=False to suppress this warning\n",
      "  return func(*args, **kwargs)\n",
      "C:\\Users\\ngoum\\AppData\\Local\\Temp\\ipykernel_41304\\286945043.py:45: FutureWarning: the 'smoothing_slope'' keyword is deprecated, use 'smoothing_trend' instead.\n",
      "  model = model.fit(smoothing_level=smoothing_level, smoothing_slope=smoothing_slope)\n",
      "C:\\Users\\ngoum\\anaconda3\\envs\\dl-env\\lib\\site-packages\\pandas\\util\\_decorators.py:211: EstimationWarning: Model has no free parameters to estimate. Set optimized=False to suppress this warning\n",
      "  return func(*args, **kwargs)\n"
     ]
    }
   ],
   "source": [
    "hw_params = {\"smoothing_level\": 0.5, \"smoothing_slope\": 0.2}\n",
    "stats_models_cv(model_name=\"holt-linear\", data=hw_data, params=hw_params, n_folds=3)"
   ]
  },
  {
   "cell_type": "markdown",
   "id": "9d224276-dd0d-47c3-b546-bb51571802e8",
   "metadata": {},
   "source": [
    "### ARIMA"
   ]
  },
  {
   "cell_type": "code",
   "execution_count": 40,
   "id": "4c91c0ce-ce7f-4b28-9280-da33d64cc5bb",
   "metadata": {},
   "outputs": [],
   "source": [
    "arima_data = data[target].copy()"
   ]
  },
  {
   "cell_type": "code",
   "execution_count": 41,
   "id": "46bbb150-49ea-48fc-a4ba-2309d0b6e8c4",
   "metadata": {},
   "outputs": [
    {
     "data": {
      "text/plain": [
       "((18, 1), (5, 1))"
      ]
     },
     "execution_count": 41,
     "metadata": {},
     "output_type": "execute_result"
    }
   ],
   "source": [
    "arima_train, arima_test = split_dataset(arima_data, test_size=0.2)\n",
    "arima_train.shape, hw_test.shape"
   ]
  },
  {
   "cell_type": "code",
   "execution_count": 42,
   "id": "d1d88d5c-c7e8-4b3b-9222-047326ee0fb3",
   "metadata": {},
   "outputs": [
    {
     "name": "stdout",
     "output_type": "stream",
     "text": [
      "MAE: 20.78773, MSE: 727.42937, R-squared: 0.65056\n"
     ]
    }
   ],
   "source": [
    "# Train model\n",
    "p, d, q = 1, 2, 1\n",
    "arima_model = ARIMA(arima_train, order=(p, d, q))\n",
    "arima_model = arima_model.fit()\n",
    "\n",
    "# Calculate metrics\n",
    "forecast_arima = arima_model.forecast(steps=len(arima_test))\n",
    "arima_mae, arima_mse, arima_r2 = calculate_metrics(forecast_arima, arima_test)\n",
    "print(f\"MAE: {arima_mae:.5f}, MSE: {arima_mse:.5f}, R-squared: {arima_r2:.5f}\")"
   ]
  },
  {
   "cell_type": "code",
   "execution_count": 43,
   "id": "ef2126ed-7ed7-4b5a-a8b1-583aa3178398",
   "metadata": {},
   "outputs": [
    {
     "data": {
      "text/plain": [
       "<AxesSubplot:xlabel='Year', ylabel='US Wine Sales Volume (Mgal)'>"
      ]
     },
     "execution_count": 43,
     "metadata": {},
     "output_type": "execute_result"
    },
    {
     "data": {
      "image/png": "[encoded data removed]",
      "text/plain": [
       "<Figure size 432x288 with 1 Axes>"
      ]
     },
     "metadata": {
      "needs_background": "light"
     },
     "output_type": "display_data"
    }
   ],
   "source": [
    "sns.lineplot(data=data, x=data.index, y=target[0], label=\"Actual\")\n",
    "sns.lineplot(x=forecast_arima.index, y=forecast_arima.values, label=\"Predicted\")"
   ]
  },
  {
   "cell_type": "markdown",
   "id": "b848ffdd-ea68-42c6-872b-009fe0b90e73",
   "metadata": {},
   "source": [
    "Cross-Validation"
   ]
  },
  {
   "cell_type": "code",
   "execution_count": 44,
   "id": "12c9a817-15c4-4383-9be6-ba8e9f9f5a0c",
   "metadata": {},
   "outputs": [
    {
     "name": "stdout",
     "output_type": "stream",
     "text": [
      "Mean MAE: 15.932708140536882\n",
      "Mean MSE: 445.2553627919119\n",
      "Mean R-squared: 0.6135112341960911\n",
      "Train sizes: min=8, max=18\n",
      "Test sizes: min=5, max=5\n"
     ]
    }
   ],
   "source": [
    "arima_params = {\"p\": 1, \"d\": 2, \"q\": 1}\n",
    "stats_models_cv(model_name=\"arima\", data=arima_data, params=arima_params, n_folds=3)"
   ]
  },
  {
   "cell_type": "markdown",
   "id": "46b1cd0e-6c9b-4efa-b29c-7082c986ef1b",
   "metadata": {},
   "source": [
    "### Dynamic Linear Models (DLM)"
   ]
  },
  {
   "cell_type": "markdown",
   "id": "4afe40b6-9e83-41d2-9002-bf4253dbedb5",
   "metadata": {},
   "source": [
    "#### Without additional features\n",
    "We assume a linearity of the data and we only use the target variable."
   ]
  },
  {
   "cell_type": "code",
   "execution_count": 45,
   "id": "6f322133-5d0d-45ad-baf5-6124aeee568c",
   "metadata": {},
   "outputs": [],
   "source": [
    "dlm_data = data[target].copy()"
   ]
  },
  {
   "cell_type": "code",
   "execution_count": 46,
   "id": "1c10f4d5-c03a-431c-be32-e8f5ae709173",
   "metadata": {},
   "outputs": [
    {
     "data": {
      "text/plain": [
       "((18, 1), (5, 1))"
      ]
     },
     "execution_count": 46,
     "metadata": {},
     "output_type": "execute_result"
    }
   ],
   "source": [
    "dlm_train, dlm_test = split_dataset(dlm_data, test_size=0.2)\n",
    "dlm_train.shape, dlm_test.shape"
   ]
  },
  {
   "cell_type": "code",
   "execution_count": 47,
   "id": "9177dd02-a505-4bc3-995c-847d28aff170",
   "metadata": {},
   "outputs": [
    {
     "name": "stdout",
     "output_type": "stream",
     "text": [
      "Initializing models...\n",
      "Initialization finished.\n",
      "Starting forward filtering...\n",
      "Forward filtering completed.\n",
      "Starting backward smoothing...\n",
      "Backward smoothing completed.\n"
     ]
    }
   ],
   "source": [
    "# Fit model on train data\n",
    "dlm_model = dlm(dlm_train.values)\n",
    "# Given the data is linear, we add a linear trend component\n",
    "dlm_model = dlm_model + trend(degree=1, discount=0.4)\n",
    "dlm_model.fit()"
   ]
  },
  {
   "cell_type": "code",
   "execution_count": 48,
   "id": "3cd79690-9be5-497f-ba6b-e8a08467bb07",
   "metadata": {},
   "outputs": [
    {
     "data": {
      "image/png": "[encoded data removed]",
      "text/plain": [
       "<Figure size 432x288 with 3 Axes>"
      ]
     },
     "metadata": {
      "needs_background": "light"
     },
     "output_type": "display_data"
    },
    {
     "data": {
      "text/plain": [
       "<Figure size 432x288 with 0 Axes>"
      ]
     },
     "metadata": {},
     "output_type": "display_data"
    }
   ],
   "source": [
    "dlm_model.plot()\n",
    "plt.tight_layout()"
   ]
  },
  {
   "cell_type": "code",
   "execution_count": 49,
   "id": "52345150-7e9f-4c98-833e-f4a0f95a717a",
   "metadata": {},
   "outputs": [],
   "source": [
    "# Forecast the next steps\n",
    "forecast_dlm = dlm_model.predictN(N=len(dlm_test))[0]"
   ]
  },
  {
   "cell_type": "code",
   "execution_count": 50,
   "id": "d409ed1f-7139-409a-bd23-599e44facfc0",
   "metadata": {},
   "outputs": [
    {
     "name": "stdout",
     "output_type": "stream",
     "text": [
      "MAE: 19.65068, MSE: 553.96476, R-squared: 0.73389\n"
     ]
    }
   ],
   "source": [
    "dlm_mae, dlm_mse, dlm_r2 = calculate_metrics(forecast_dlm, dlm_test)\n",
    "print(f\"MAE: {dlm_mae:.5f}, MSE: {dlm_mse:.5f}, R-squared: {dlm_r2:.5f}\")"
   ]
  },
  {
   "cell_type": "code",
   "execution_count": 51,
   "id": "ef83d2c5-2dfd-4e9a-8b7b-6174d47d4477",
   "metadata": {},
   "outputs": [
    {
     "data": {
      "text/plain": [
       "<AxesSubplot:xlabel='Year', ylabel='US Wine Sales Volume (Mgal)'>"
      ]
     },
     "execution_count": 51,
     "metadata": {},
     "output_type": "execute_result"
    },
    {
     "data": {
      "image/png": "[encoded data removed]",
      "text/plain": [
       "<Figure size 432x288 with 1 Axes>"
      ]
     },
     "metadata": {
      "needs_background": "light"
     },
     "output_type": "display_data"
    }
   ],
   "source": [
    "sns.lineplot(data=data, x=data.index, y=target[0], label=\"Actual\")\n",
    "sns.lineplot(x=dlm_test.index, y=forecast_dlm, label=\"Predicted\")"
   ]
  },
  {
   "cell_type": "markdown",
   "id": "7af3bc63-1089-41db-a194-b87acbede819",
   "metadata": {},
   "source": [
    "Cross-validation"
   ]
  },
  {
   "cell_type": "code",
   "execution_count": 52,
   "id": "e6b99060-e4f6-431e-ad66-08d87f663d66",
   "metadata": {},
   "outputs": [
    {
     "name": "stdout",
     "output_type": "stream",
     "text": [
      "Initializing models...\n",
      "Initialization finished.\n",
      "Starting forward filtering...\n",
      "Forward filtering completed.\n",
      "Starting backward smoothing...\n",
      "Backward smoothing completed.\n",
      "Initializing models...\n",
      "Initialization finished.\n",
      "Starting forward filtering...\n",
      "Forward filtering completed.\n",
      "Starting backward smoothing...\n",
      "Backward smoothing completed.\n",
      "Initializing models...\n",
      "Initialization finished.\n",
      "Starting forward filtering...\n",
      "Forward filtering completed.\n",
      "Starting backward smoothing...\n",
      "Backward smoothing completed.\n",
      "Mean MAE: 17.46366967554026\n",
      "Mean MSE: 494.04710059031027\n",
      "Mean R-squared: 0.6954987291194269\n",
      "Train sizes: min=8, max=18\n",
      "Test sizes: min=5, max=5\n"
     ]
    }
   ],
   "source": [
    "dlm_params = {\"discount\": 0.95, \"features_data\": \"linear\"}\n",
    "stats_models_cv(model_name=\"dlm\", data=dlm_data, params=dlm_params, n_folds=3)"
   ]
  },
  {
   "cell_type": "code",
   "execution_count": null,
   "id": "56803a92-25a0-4b9b-bb1f-39ff7c99092d",
   "metadata": {},
   "outputs": [],
   "source": []
  }
 ],
 "metadata": {
  "kernelspec": {
   "display_name": "dl-env",
   "language": "python",
   "name": "dl-env"
  },
  "language_info": {
   "codemirror_mode": {
    "name": "ipython",
    "version": 3
   },
   "file_extension": ".py",
   "mimetype": "text/x-python",
   "name": "python",
   "nbconvert_exporter": "python",
   "pygments_lexer": "ipython3",
   "version": "3.9.12"
  }
 },
 "nbformat": 4,
 "nbformat_minor": 5
}
